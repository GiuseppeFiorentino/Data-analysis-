{
 "cells": [
  {
   "cell_type": "markdown",
   "metadata": {
    "id": "iRKzFf8mJ2jm"
   },
   "source": [
    "# **Homework 2**\n",
    "## dataset generation\n",
    "\n",
    "The first request of the homework is to generate our own dataset.\n",
    "It is done manually with the help of the commands:\n",
    "  *tcpdump & curl website x 10 times *\n",
    "\n",
    "After having obtained each .pcap file for the dataset, those are converted into a .csv, with the help of **tshark**.\n",
    "\n",
    "The second request was to consider only https traffic. \n",
    "In wireshark there isnt a proper filter for https,but we can use some tricks based on the knowledge of this protocol that will help filtering out what it isn't https.\n",
    "\n",
    "HTTPS works with the help of the tls, transport layer security protocol or ssl.\n",
    "\n",
    "it is a protocol stacked on tcp and it is characterized by some exchanges between the server and the client that are in the following summarized:\n",
    "\n",
    "\n",
    "1.   Client-hello\n",
    "2.   Server-hello\n",
    "3.   Server Certificate\n",
    "4.   Certificate Request\n",
    "5.   Server Hello Done \n",
    "6.   Client Certificate\n",
    "7.   Client Key Exchange\n",
    "8.   Certificate Verify\n",
    "9.   Finished\n",
    "\n",
    "The messages are part of the tcp data packets, for this reason the following filters applied to tcpdump will be useful to identify only the packets related to the https exchange between the client and the server.\n",
    "\n",
    "\n",
    "`!tcpdump -i ....\"(tcp[((tcp[12] & 0xf0) >>2)] = 0x16) or (tcp[((tcp[12] & 0xf0) >>2)+9] = 0x03) or (tcp[((tcp[12] & 0xf0) >>2)+10] = 0x03) or (tcp[((tcp[12] & 0xf0) >>2)] = 0x17) or (tcp[((tcp[12] & 0xf0) >>2)+1] = 0x03) or (tcp[((tcp[12] & 0xf0) >>2)] = 0x15) or (tcp[((tcp[12] & 0xf0) >>2)] = 0x21`)\"\n"
   ]
  },
  {
   "cell_type": "code",
   "execution_count": 299,
   "metadata": {
    "colab": {
     "base_uri": "https://localhost:8080/"
    },
    "id": "QIlT5GiXKBbw",
    "outputId": "fee3767d-a356-4dfc-d3bc-3666682237e5"
   },
   "outputs": [
    {
     "name": "stdout",
     "output_type": "stream",
     "text": [
      "Reading package lists... Done\n",
      "Building dependency tree       \n",
      "Reading state information... Done\n",
      "The following additional packages will be installed:\n",
      "  libpcap0.8\n",
      "Suggested packages:\n",
      "  apparmor\n",
      "The following NEW packages will be installed:\n",
      "  libpcap0.8 tcpdump\n",
      "0 upgraded, 2 newly installed, 0 to remove and 39 not upgraded.\n",
      "Need to get 482 kB of archives.\n",
      "After this operation, 1,408 kB of additional disk space will be used.\n",
      "Get:1 http://archive.ubuntu.com/ubuntu bionic-updates/main amd64 libpcap0.8 amd64 1.8.1-6ubuntu1.18.04.2 [118 kB]\n",
      "Get:2 http://archive.ubuntu.com/ubuntu bionic-updates/main amd64 tcpdump amd64 4.9.3-0ubuntu0.18.04.1 [364 kB]\n",
      "Fetched 482 kB in 1s (595 kB/s)\n",
      "Selecting previously unselected package libpcap0.8:amd64.\n",
      "(Reading database ... 156210 files and directories currently installed.)\n",
      "Preparing to unpack .../libpcap0.8_1.8.1-6ubuntu1.18.04.2_amd64.deb ...\n",
      "Unpacking libpcap0.8:amd64 (1.8.1-6ubuntu1.18.04.2) ...\n",
      "Selecting previously unselected package tcpdump.\n",
      "Preparing to unpack .../tcpdump_4.9.3-0ubuntu0.18.04.1_amd64.deb ...\n",
      "Unpacking tcpdump (4.9.3-0ubuntu0.18.04.1) ...\n",
      "Setting up libpcap0.8:amd64 (1.8.1-6ubuntu1.18.04.2) ...\n",
      "Setting up tcpdump (4.9.3-0ubuntu0.18.04.1) ...\n",
      "Processing triggers for man-db (2.8.3-2ubuntu0.1) ...\n",
      "Processing triggers for libc-bin (2.27-3ubuntu1.3) ...\n",
      "/sbin/ldconfig.real: /usr/local/lib/python3.7/dist-packages/ideep4py/lib/libmkldnn.so.0 is not a symbolic link\n",
      "\n",
      "Reading package lists... Done\n",
      "Building dependency tree       \n",
      "Reading state information... Done\n",
      "curl is already the newest version (7.58.0-2ubuntu3.16).\n",
      "0 upgraded, 0 newly installed, 0 to remove and 39 not upgraded.\n",
      "Reading package lists... Done\n",
      "Building dependency tree       \n",
      "Reading state information... Done\n",
      "The following additional packages will be installed:\n",
      "  libc-ares2 libcap2-bin liblua5.2-0 libmaxminddb0 libnl-genl-3-200 libpam-cap\n",
      "  libsbc1 libsmi2ldbl libspandsp2 libwireshark-data libwireshark11 libwiretap8\n",
      "  libwscodecs2 libwsutil9 wireshark-common\n",
      "Suggested packages:\n",
      "  mmdb-bin snmp-mibs-downloader wireshark-doc\n",
      "The following NEW packages will be installed:\n",
      "  libc-ares2 libcap2-bin liblua5.2-0 libmaxminddb0 libnl-genl-3-200 libpam-cap\n",
      "  libsbc1 libsmi2ldbl libspandsp2 libwireshark-data libwireshark11 libwiretap8\n",
      "  libwscodecs2 libwsutil9 tshark wireshark-common\n",
      "0 upgraded, 16 newly installed, 0 to remove and 39 not upgraded.\n",
      "Need to get 16.4 MB of archives.\n",
      "After this operation, 95.3 MB of additional disk space will be used.\n",
      "Get:1 http://archive.ubuntu.com/ubuntu bionic/main amd64 libcap2-bin amd64 1:2.25-1.2 [20.6 kB]\n",
      "Get:2 http://archive.ubuntu.com/ubuntu bionic/main amd64 libpam-cap amd64 1:2.25-1.2 [7,268 B]\n",
      "Get:3 http://archive.ubuntu.com/ubuntu bionic/main amd64 liblua5.2-0 amd64 5.2.4-1.1build1 [108 kB]\n",
      "Get:4 http://archive.ubuntu.com/ubuntu bionic/universe amd64 libmaxminddb0 amd64 1.3.1-1 [25.6 kB]\n",
      "Get:5 http://archive.ubuntu.com/ubuntu bionic/main amd64 libnl-genl-3-200 amd64 3.2.29-0ubuntu3 [11.2 kB]\n",
      "Get:6 http://archive.ubuntu.com/ubuntu bionic/main amd64 libsmi2ldbl amd64 0.4.8+dfsg2-15 [100 kB]\n",
      "Get:7 http://archive.ubuntu.com/ubuntu bionic/universe amd64 libspandsp2 amd64 0.0.6+dfsg-0.1 [273 kB]\n",
      "Get:8 http://archive.ubuntu.com/ubuntu bionic-updates/universe amd64 libwireshark-data all 2.6.10-1~ubuntu18.04.0 [1,425 kB]\n",
      "Get:9 http://archive.ubuntu.com/ubuntu bionic-updates/main amd64 libc-ares2 amd64 1.14.0-1ubuntu0.1 [37.5 kB]\n",
      "Get:10 http://archive.ubuntu.com/ubuntu bionic-updates/universe amd64 libwsutil9 amd64 2.6.10-1~ubuntu18.04.0 [55.5 kB]\n",
      "Get:11 http://archive.ubuntu.com/ubuntu bionic-updates/universe amd64 libwiretap8 amd64 2.6.10-1~ubuntu18.04.0 [177 kB]\n",
      "Get:12 http://archive.ubuntu.com/ubuntu bionic/main amd64 libsbc1 amd64 1.3-2 [33.1 kB]\n",
      "Get:13 http://archive.ubuntu.com/ubuntu bionic-updates/universe amd64 libwscodecs2 amd64 2.6.10-1~ubuntu18.04.0 [17.8 kB]\n",
      "Get:14 http://archive.ubuntu.com/ubuntu bionic-updates/universe amd64 libwireshark11 amd64 2.6.10-1~ubuntu18.04.0 [13.6 MB]\n",
      "Get:15 http://archive.ubuntu.com/ubuntu bionic-updates/universe amd64 wireshark-common amd64 2.6.10-1~ubuntu18.04.0 [391 kB]\n",
      "Get:16 http://archive.ubuntu.com/ubuntu bionic-updates/universe amd64 tshark amd64 2.6.10-1~ubuntu18.04.0 [134 kB]\n",
      "Fetched 16.4 MB in 1s (22.4 MB/s)\n",
      "Preconfiguring packages ...\n",
      "Selecting previously unselected package libcap2-bin.\n",
      "(Reading database ... 156232 files and directories currently installed.)\n",
      "Preparing to unpack .../00-libcap2-bin_1%3a2.25-1.2_amd64.deb ...\n",
      "Unpacking libcap2-bin (1:2.25-1.2) ...\n",
      "Selecting previously unselected package libpam-cap:amd64.\n",
      "Preparing to unpack .../01-libpam-cap_1%3a2.25-1.2_amd64.deb ...\n",
      "Unpacking libpam-cap:amd64 (1:2.25-1.2) ...\n",
      "Selecting previously unselected package liblua5.2-0:amd64.\n",
      "Preparing to unpack .../02-liblua5.2-0_5.2.4-1.1build1_amd64.deb ...\n",
      "Unpacking liblua5.2-0:amd64 (5.2.4-1.1build1) ...\n",
      "Selecting previously unselected package libmaxminddb0:amd64.\n",
      "Preparing to unpack .../03-libmaxminddb0_1.3.1-1_amd64.deb ...\n",
      "Unpacking libmaxminddb0:amd64 (1.3.1-1) ...\n",
      "Selecting previously unselected package libnl-genl-3-200:amd64.\n",
      "Preparing to unpack .../04-libnl-genl-3-200_3.2.29-0ubuntu3_amd64.deb ...\n",
      "Unpacking libnl-genl-3-200:amd64 (3.2.29-0ubuntu3) ...\n",
      "Selecting previously unselected package libsmi2ldbl:amd64.\n",
      "Preparing to unpack .../05-libsmi2ldbl_0.4.8+dfsg2-15_amd64.deb ...\n",
      "Unpacking libsmi2ldbl:amd64 (0.4.8+dfsg2-15) ...\n",
      "Selecting previously unselected package libspandsp2:amd64.\n",
      "Preparing to unpack .../06-libspandsp2_0.0.6+dfsg-0.1_amd64.deb ...\n",
      "Unpacking libspandsp2:amd64 (0.0.6+dfsg-0.1) ...\n",
      "Selecting previously unselected package libwireshark-data.\n",
      "Preparing to unpack .../07-libwireshark-data_2.6.10-1~ubuntu18.04.0_all.deb ...\n",
      "Unpacking libwireshark-data (2.6.10-1~ubuntu18.04.0) ...\n",
      "Selecting previously unselected package libc-ares2:amd64.\n",
      "Preparing to unpack .../08-libc-ares2_1.14.0-1ubuntu0.1_amd64.deb ...\n",
      "Unpacking libc-ares2:amd64 (1.14.0-1ubuntu0.1) ...\n",
      "Selecting previously unselected package libwsutil9:amd64.\n",
      "Preparing to unpack .../09-libwsutil9_2.6.10-1~ubuntu18.04.0_amd64.deb ...\n",
      "Unpacking libwsutil9:amd64 (2.6.10-1~ubuntu18.04.0) ...\n",
      "Selecting previously unselected package libwiretap8:amd64.\n",
      "Preparing to unpack .../10-libwiretap8_2.6.10-1~ubuntu18.04.0_amd64.deb ...\n",
      "Unpacking libwiretap8:amd64 (2.6.10-1~ubuntu18.04.0) ...\n",
      "Selecting previously unselected package libsbc1:amd64.\n",
      "Preparing to unpack .../11-libsbc1_1.3-2_amd64.deb ...\n",
      "Unpacking libsbc1:amd64 (1.3-2) ...\n",
      "Selecting previously unselected package libwscodecs2:amd64.\n",
      "Preparing to unpack .../12-libwscodecs2_2.6.10-1~ubuntu18.04.0_amd64.deb ...\n",
      "Unpacking libwscodecs2:amd64 (2.6.10-1~ubuntu18.04.0) ...\n",
      "Selecting previously unselected package libwireshark11:amd64.\n",
      "Preparing to unpack .../13-libwireshark11_2.6.10-1~ubuntu18.04.0_amd64.deb ...\n",
      "Unpacking libwireshark11:amd64 (2.6.10-1~ubuntu18.04.0) ...\n",
      "Selecting previously unselected package wireshark-common.\n",
      "Preparing to unpack .../14-wireshark-common_2.6.10-1~ubuntu18.04.0_amd64.deb ...\n",
      "Unpacking wireshark-common (2.6.10-1~ubuntu18.04.0) ...\n",
      "Selecting previously unselected package tshark.\n",
      "Preparing to unpack .../15-tshark_2.6.10-1~ubuntu18.04.0_amd64.deb ...\n",
      "Unpacking tshark (2.6.10-1~ubuntu18.04.0) ...\n",
      "Setting up libsbc1:amd64 (1.3-2) ...\n",
      "Setting up libpam-cap:amd64 (1:2.25-1.2) ...\n",
      "Setting up libcap2-bin (1:2.25-1.2) ...\n",
      "Setting up libspandsp2:amd64 (0.0.6+dfsg-0.1) ...\n",
      "Setting up libnl-genl-3-200:amd64 (3.2.29-0ubuntu3) ...\n",
      "Setting up libsmi2ldbl:amd64 (0.4.8+dfsg2-15) ...\n",
      "Setting up libwsutil9:amd64 (2.6.10-1~ubuntu18.04.0) ...\n",
      "Setting up libwireshark-data (2.6.10-1~ubuntu18.04.0) ...\n",
      "Setting up libwscodecs2:amd64 (2.6.10-1~ubuntu18.04.0) ...\n",
      "Setting up liblua5.2-0:amd64 (5.2.4-1.1build1) ...\n",
      "Setting up libc-ares2:amd64 (1.14.0-1ubuntu0.1) ...\n",
      "Setting up libmaxminddb0:amd64 (1.3.1-1) ...\n",
      "Setting up libwiretap8:amd64 (2.6.10-1~ubuntu18.04.0) ...\n",
      "Setting up libwireshark11:amd64 (2.6.10-1~ubuntu18.04.0) ...\n",
      "Setting up wireshark-common (2.6.10-1~ubuntu18.04.0) ...\n",
      "Setting up tshark (2.6.10-1~ubuntu18.04.0) ...\n",
      "Processing triggers for libc-bin (2.27-3ubuntu1.3) ...\n",
      "/sbin/ldconfig.real: /usr/local/lib/python3.7/dist-packages/ideep4py/lib/libmkldnn.so.0 is not a symbolic link\n",
      "\n",
      "Processing triggers for man-db (2.8.3-2ubuntu0.1) ...\n",
      "Processing triggers for shared-mime-info (1.9-2) ...\n",
      "Processing triggers for hicolor-icon-theme (0.17-2) ...\n"
     ]
    }
   ],
   "source": [
    "!apt-get install tcpdump\n",
    "!apt-get install curl\n",
    "!apt-get install tshark"
   ]
  },
  {
   "cell_type": "markdown",
   "metadata": {
    "id": "xBNcWCiMKN8l"
   },
   "source": [
    "#tcpdump commands with filter for https:"
   ]
  },
  {
   "cell_type": "code",
   "execution_count": null,
   "metadata": {
    "id": "GkccL-i3KHxV"
   },
   "outputs": [],
   "source": [
    "!tcpdump -i eth0 \"(tcp[((tcp[12] & 0xf0) >>2)] = 0x16) or (tcp[((tcp[12] & 0xf0) >>2)+9] = 0x03) or (tcp[((tcp[12] & 0xf0) >>2)+10] = 0x03) or (tcp[((tcp[12] & 0xf0) >>2)] = 0x17) or (tcp[((tcp[12] & 0xf0) >>2)+1] = 0x03) or (tcp[((tcp[12] & 0xf0) >>2)] = 0x15) or (tcp[((tcp[12] & 0xf0) >>2)] = 0x21)\"  -w ndtv_capture.pcapng & (sleep 10;curl 'https://www.ndtv.com'> /dev/null) & (sleep 10; curl 'https://www.ndtv.com'> /dev/null) & (sleep 10; curl -s 'https://www.ndtv.com'> /dev/null) & (sleep 10; curl 'https://www.ndtv.com'> /dev/null) & (sleep 10; curl -s 'https://www.ndtv.com'> /dev/null) & (sleep 10;curl -s 'https://www.ndtv.com'> /dev/null) & ( sleep 10;curl 'https://www.ndtv.com'> /dev/null) & (sleep 10;curl 'https://www.ndtv.com'> /dev/null) & (sleep 10;curl 'https://www.ndtv.com'> /dev/null) & (sleep 10; curl 'https://www.ndtv.com'> /dev/null) & (sleep 110;killall tcpdump);"
   ]
  },
  {
   "cell_type": "code",
   "execution_count": null,
   "metadata": {
    "id": "JtABBBWeDSEF"
   },
   "outputs": [],
   "source": [
    "!tcpdump -i eth0 \"(tcp[((tcp[12] & 0xf0) >>2)] = 0x16) or (tcp[((tcp[12] & 0xf0) >>2)+9] = 0x03) or (tcp[((tcp[12] & 0xf0) >>2)+10] = 0x03) or (tcp[((tcp[12] & 0xf0) >>2)] = 0x17) or (tcp[((tcp[12] & 0xf0) >>2)+1] = 0x03) or (tcp[((tcp[12] & 0xf0) >>2)] = 0x15) or (tcp[((tcp[12] & 0xf0) >>2)] = 0x21)\"  -w abc.pcapng  & (sleep 10; curl 'https://www.abc.net.au'> /dev/null) & (sleep 10; curl 'https://www.abc.net.au'> /dev/null) & (sleep 10; curl 'https://www.abc.net.au'> /dev/null) & (sleep 10; curl 'https://www.abc.net.au'> /dev/null) & (sleep 10; curl 'https://www.abc.net.au'> /dev/null) & (sleep 10; curl 'https://www.abc.net.au'> /dev/null) & (sleep 10; curl 'https://www.abc.net.au'> /dev/null) & (sleep 10; curl 'https://www.abc.net.au'> /dev/null) & (sleep 10; curl 'https://www.abc.net.au'> /dev/null) & (sleep 10; curl 'https://www.abc.net.au'> /dev/null) & (sleep 180;killall tcpdump)"
   ]
  },
  {
   "cell_type": "code",
   "execution_count": null,
   "metadata": {
    "id": "EyzVSpUTDR8s"
   },
   "outputs": [],
   "source": [
    "!tcpdump -i eth0 \"(tcp[((tcp[12] & 0xf0) >>2)] = 0x16) or (tcp[((tcp[12] & 0xf0) >>2)+9] = 0x03) or (tcp[((tcp[12] & 0xf0) >>2)+10] = 0x03) or (tcp[((tcp[12] & 0xf0) >>2)] = 0x17) or (tcp[((tcp[12] & 0xf0) >>2)+1] = 0x03) or (tcp[((tcp[12] & 0xf0) >>2)] = 0x15) or (tcp[((tcp[12] & 0xf0) >>2)] = 0x21)\"  -w news_google.pcapng & (sleep 10;curl 'https://www.news.google.com' > /dev/null) & (sleep 10;curl 'https://www.news.google.com' > /dev/null) & (sleep 10;curl 'https://www.news.google.com' > /dev/null) & (sleep 10;curl 'https://www.news.google.com' > /dev/null) & (sleep 10;curl 'https://www.news.google.com' > /dev/null ) & (sleep 10;curl 'https://www.news.google.com' > /dev/null) & (sleep 10;curl 'https://www.news.google.com' > /dev/null) & (sleep 10;curl 'https://www.news.google.com' > /dev/null) & (sleep 10;curl 'https://www.news.google.com' > /dev/null)  & (sleep 10;curl 'https://www.news.google.com' > /dev/null) & (sleep 110;killall tcpdump)"
   ]
  },
  {
   "cell_type": "code",
   "execution_count": null,
   "metadata": {
    "id": "aoSNXgjDDR10"
   },
   "outputs": [],
   "source": [
    "!tcpdump -i eth0 \"(tcp[((tcp[12] & 0xf0) >>2)] = 0x16) or (tcp[((tcp[12] & 0xf0) >>2)+9] = 0x03) or (tcp[((tcp[12] & 0xf0) >>2)+10] = 0x03) or (tcp[((tcp[12] & 0xf0) >>2)] = 0x17) or (tcp[((tcp[12] & 0xf0) >>2)+1] = 0x03) or (tcp[((tcp[12] & 0xf0) >>2)] = 0x15) or (tcp[((tcp[12] & 0xf0) >>2)] = 0x21)\"  -w daily_mail.pcapng & (sleep 10;curl 'https://www.dailymail.co.uk'> /dev/null ) & (sleep 10;curl 'https://www.dailymail.co.uk' > /dev/null ) & (sleep 10;curl 'https://www.dailymail.co.uk'> /dev/null ) & (sleep 10;curl 'https://www.dailymail.co.uk' > /dev/null ) & (sleep 10;curl 'https://www.dailymail.co.uk'> /dev/null ) & (sleep 10;curl 'https://www.dailymail.co.uk' > /dev/null ) & (sleep 10;curl 'https://www.dailymail.co.uk'> /dev/null ) & (sleep 10;curl 'https://www.dailymail.co.uk' > /dev/null ) & (sleep 10;curl 'https://www.dailymail.co.uk'> /dev/null ) & (sleep 10;curl 'https://www.dailymail.co.uk' > /dev/null ) & (sleep 110;killall tcpdump) "
   ]
  },
  {
   "cell_type": "code",
   "execution_count": null,
   "metadata": {
    "id": "FhARJAY_DRvR"
   },
   "outputs": [],
   "source": [
    "!tcpdump -i eth0 \"(tcp[((tcp[12] & 0xf0) >>2)] = 0x16) or (tcp[((tcp[12] & 0xf0) >>2)+9] = 0x03) or (tcp[((tcp[12] & 0xf0) >>2)+10] = 0x03) or (tcp[((tcp[12] & 0xf0) >>2)] = 0x17) or (tcp[((tcp[12] & 0xf0) >>2)+1] = 0x03) or (tcp[((tcp[12] & 0xf0) >>2)] = 0x15) or (tcp[((tcp[12] & 0xf0) >>2)] = 0x21)\"  -w indiatimes.pcapng & (sleep 10; curl 'https://www.indiatimes.com' > /dev/null) & (sleep 10; curl 'https://www.indiatimes.com' > /dev/null) & (sleep 10; curl 'https://www.indiatimes.com' > /dev/null) & (sleep 10; curl 'https://www.indiatimes.com' > /dev/null) & (sleep 10; curl 'https://www.indiatimes.com' > /dev/null) & (sleep 10; curl 'https://www.indiatimes.com' > /dev/null) & (sleep 10; curl 'https://www.indiatimes.com' > /dev/null) & (sleep 10; curl 'https://www.indiatimes.com' > /dev/null) & (sleep 10; curl 'https://www.indiatimes.com' > /dev/null) & (sleep 10; curl 'https://www.indiatimes.com' > /dev/null) & (sleep 110; killall tcpdump)"
   ]
  },
  {
   "cell_type": "code",
   "execution_count": null,
   "metadata": {
    "id": "gFmGXFbKDRok"
   },
   "outputs": [],
   "source": [
    "!tcpdump -i eth0 \"(tcp[((tcp[12] & 0xf0) >>2)] = 0x16) or (tcp[((tcp[12] & 0xf0) >>2)+9] = 0x03) or (tcp[((tcp[12] & 0xf0) >>2)+10] = 0x03) or (tcp[((tcp[12] & 0xf0) >>2)] = 0x17) or (tcp[((tcp[12] & 0xf0) >>2)+1] = 0x03) or (tcp[((tcp[12] & 0xf0) >>2)] = 0x15) or (tcp[((tcp[12] & 0xf0) >>2)] = 0x21)\"  -w timesofindia.pcapng & (sleep 10; curl 'https://www.timesofindia.com' > /dev/null) & (sleep 10; curl 'https://www.timesofindia.com' > /dev/null) & (sleep 10; curl 'https://www.timesofindia.com' > /dev/null) & (sleep 10; curl 'https://www.timesofindia.com' > /dev/null) & (sleep 10; curl 'https://www.timesofindia.com' > /dev/null) & (sleep 10; curl 'https://www.timesofindia.com' > /dev/null) & (sleep 10; curl 'https://www.timesofindia.com' > /dev/null) & (sleep 10; curl 'https://www.timesofindia.com' > /dev/null) & (sleep 10; curl 'https://www.timesofindia.com' > /dev/null) & (sleep 10; curl 'https://www.timesofindia.com' > /dev/null) & (sleep 110; killall tcpdump)"
   ]
  },
  {
   "cell_type": "code",
   "execution_count": null,
   "metadata": {
    "id": "s3KIaG5HDRiV"
   },
   "outputs": [],
   "source": [
    "!tcpdump -i eth0 \"(tcp[((tcp[12] & 0xf0) >>2)] = 0x16) or (tcp[((tcp[12] & 0xf0) >>2)+9] = 0x03) or (tcp[((tcp[12] & 0xf0) >>2)+10] = 0x03) or (tcp[((tcp[12] & 0xf0) >>2)] = 0x17) or (tcp[((tcp[12] & 0xf0) >>2)+1] = 0x03) or (tcp[((tcp[12] & 0xf0) >>2)] = 0x15) or (tcp[((tcp[12] & 0xf0) >>2)] = 0x21)\"  -w news_yahoo.pcapng & (sleep 10; curl 'https://www.news.yahoo.com' > /dev/null) & (sleep 10; curl 'https://www.news.yahoo.com' > /dev/null) & (sleep 10; curl 'https://www.news.yahoo.com' > /dev/null) & (sleep 10; curl 'https://www.news.yahoo.com' > /dev/null) & (sleep 10; curl 'https://www.news.yahoo.com' > /dev/null) & (sleep 10; curl 'https://www.news.yahoo.com' > /dev/null) & (sleep 10; curl 'https://www.news.yahoo.com' > /dev/null) & (sleep 10; curl 'https://www.news.yahoo.com' > /dev/null) & (sleep 10; curl 'https://www.news.yahoo.com' > /dev/null) & (sleep 10; curl 'https://www.news.yahoo.com' > /dev/null) & (sleep 110; killall tcpdump)"
   ]
  },
  {
   "cell_type": "code",
   "execution_count": null,
   "metadata": {
    "id": "9Rp0tzL7DRcA"
   },
   "outputs": [],
   "source": [
    "!tcpdump -i eth0 \"(tcp[((tcp[12] & 0xf0) >>2)] = 0x16) or (tcp[((tcp[12] & 0xf0) >>2)+9] = 0x03) or (tcp[((tcp[12] & 0xf0) >>2)+10] = 0x03) or (tcp[((tcp[12] & 0xf0) >>2)] = 0x17) or (tcp[((tcp[12] & 0xf0) >>2)+1] = 0x03) or (tcp[((tcp[12] & 0xf0) >>2)] = 0x15) or (tcp[((tcp[12] & 0xf0) >>2)] = 0x21)\"  -w express.pcapng & (sleep 10; curl 'https://www.express.co.uk' > /dev/null) & (sleep 10; curl 'https://www.express.co.uk' > /dev/null) & (sleep 10; curl 'https://www.express.co.uk' > /dev/null) & (sleep 10; curl 'https://www.express.co.uk' > /dev/null) & (sleep 10; curl 'https://www.express.co.uk' > /dev/null) & (sleep 10; curl 'https://www.express.co.uk' > /dev/null) & (sleep 10; curl 'https://www.express.co.uk' > /dev/null) & (sleep 10; curl 'https://www.express.co.uk' > /dev/null) & (sleep 10; curl 'https://www.express.co.uk' > /dev/null) & (sleep 10; curl 'https://www.express.co.uk' > /dev/null) & (sleep 110; killall tcpdump)"
   ]
  },
  {
   "cell_type": "code",
   "execution_count": null,
   "metadata": {
    "id": "JagWuCaTKV1N"
   },
   "outputs": [],
   "source": [
    "!tcpdump -i eth0 -w \"washingtonpost.pcapng\" \"(tcp[((tcp[12] & 0xf0) >>2)] = 0x16) or (tcp[((tcp[12] & 0xf0) >>2)+9] = 0x03) or (tcp[((tcp[12] & 0xf0) >>2)+10] = 0x03) or (tcp[((tcp[12] & 0xf0) >>2)] = 0x17) or (tcp[((tcp[12] & 0xf0) >>2)+1] = 0x03) or (tcp[((tcp[12] & 0xf0) >>2)] = 0x15) or (tcp[((tcp[12] & 0xf0) >>2)] = 0x21)\" & (sleep 10; curl 'https://www.whasingtonpost.com' > /dev/null) & (sleep 10;curl 'https://www.whasingtonpost.com'> /dev/null) & (sleep 10;curl 'https://www.whasingtonpost.com'> /dev/null) & (sleep 10;curl 'https://www.whasingtonpost.com'> /dev/null) & (sleep 10; curl 'https://www.whasingtonpost.com'> /dev/null) & (sleep 10; curl 'https://www.whasingtonpost.com'> /dev/null) & (sleep 10; curl 'https://www.whasingtonpost.com'> /dev/null) & (sleep 10;curl 'https://www.whasingtonpost.com'> /dev/null) & (sleep 10;curl 'https://www.whasingtonpost.com'> /dev/null) & (sleep 10;curl 'https://www.whasingtonpost.com'> /dev/null) & (sleep 110;killall tcpdump) "
   ]
  },
  {
   "cell_type": "code",
   "execution_count": null,
   "metadata": {
    "id": "O8SV4ZM0KYk-"
   },
   "outputs": [],
   "source": [
    "!tcpdump -i eth0 -w 'msn.pcapng' \"(tcp[((tcp[12] & 0xf0) >>2)] = 0x16) or (tcp[((tcp[12] & 0xf0) >>2)+9] = 0x03) or (tcp[((tcp[12] & 0xf0) >>2)+10] = 0x03) or (tcp[((tcp[12] & 0xf0) >>2)] = 0x17) or (tcp[((tcp[12] & 0xf0) >>2)+1] = 0x03) or (tcp[((tcp[12] & 0xf0) >>2)] = 0x15) or (tcp[((tcp[12] & 0xf0) >>2)] = 0x21)\" & (sleep 10; curl 'https://www.msn.com'> /dev/null) & (sleep 10;curl 'https://www.msn.com'> /dev/null) & (sleep 10; curl 'https://www.msn.com'> /dev/null) & (sleep 10; curl 'https://www.msn.com' > /dev/null) & (sleep 10;curl 'https://www.msn.com' > /dev/null) & (sleep 10;curl 'https://www.msn.com' > /dev/null)  & (sleep 10;curl 'https://www.msn.com' > /dev/null) & (sleep 10;curl 'https://www.msn.com' > /dev/null) & (sleep 10;curl 'https://www.msn.com' > /dev/null) & (sleep 10;curl 'https://www.msn.com' > /dev/null) & (sleep 110;killall tcpdump)"
   ]
  },
  {
   "cell_type": "code",
   "execution_count": null,
   "metadata": {
    "id": "Yu-qw4RqKaf2"
   },
   "outputs": [],
   "source": [
    "!tcpdump -i eth0 -w 'rt.pcapng' \"(tcp[((tcp[12] & 0xf0) >>2)] = 0x16) or (tcp[((tcp[12] & 0xf0) >>2)+9] = 0x03) or (tcp[((tcp[12] & 0xf0) >>2)+10] = 0x03) or (tcp[((tcp[12] & 0xf0) >>2)] = 0x17) or (tcp[((tcp[12] & 0xf0) >>2)+1] = 0x03) or (tcp[((tcp[12] & 0xf0) >>2)] = 0x15) or (tcp[((tcp[12] & 0xf0) >>2)] = 0x21)\" & (sleep 10; curl 'https://www.rt.com'> /dev/null) & (sleep 10;curl 'https://www.rt.com'> /dev/null) & (sleep 10;curl 'https://www.rt.com'> /dev/null) & (sleep 10;curl 'https://www.rt.com'> /dev/null) & (sleep 10; curl 'https://www.rt.com'> /dev/null) & (sleep 10;curl 'https://www.rt.com'> /dev/null) & (sleep 10;curl 'https://www.rt.com'> /dev/null) & (sleep 10;curl 'https://www.rt.com' > /dev/null) & (sleep 10;curl 'https://www.rt.com' > /dev/null) & (sleep 10;curl 'https://www.rt.com' > /dev/null) & (sleep 110;killall tcpdump)"
   ]
  },
  {
   "cell_type": "code",
   "execution_count": null,
   "metadata": {
    "id": "Nb8KJS8gKcY4"
   },
   "outputs": [],
   "source": [
    "!tcpdump -i eth0 -w 'foxnews.pcapng' \"(tcp[((tcp[12] & 0xf0) >>2)] = 0x16) or (tcp[((tcp[12] & 0xf0) >>2)+9] = 0x03) or (tcp[((tcp[12] & 0xf0) >>2)+10] = 0x03) or (tcp[((tcp[12] & 0xf0) >>2)] = 0x17) or (tcp[((tcp[12] & 0xf0) >>2)+1] = 0x03) or (tcp[((tcp[12] & 0xf0) >>2)] = 0x15) or (tcp[((tcp[12] & 0xf0) >>2)] = 0x21)\" & (sleep 10;curl 'https://www.foxnews.com'> /dev/null) & (sleep 10;curl 'https://www.foxnews.com'> /dev/null) & (sleep 10;curl 'https://www.foxnews.com'> /dev/null) & (sleep 10;curl 'https://www.foxnews.com'> /dev/null) & (sleep 10;curl 'https://www.foxnews.com'> /dev/null) & (sleep 10;curl 'https://www.foxnews.com'> /dev/null) & (sleep 10;curl 'https://www.foxnews.com'> /dev/null) & ( sleep 10; curl 'https://www.foxnews.com'> /dev/null) & (sleep 10; curl 'https://www.foxnews.com'> /dev/null) & (sleep 10; curl 'https://www.foxnews.com'> /dev/null) & (sleep 110; killall tcpdump)"
   ]
  },
  {
   "cell_type": "code",
   "execution_count": null,
   "metadata": {
    "id": "qUIJNNDxKfMF"
   },
   "outputs": [],
   "source": [
    "!tcpdump -i eth0 -w 'finance_yahoo.pcapng' \"(tcp[((tcp[12] & 0xf0) >>2)] = 0x16) or (tcp[((tcp[12] & 0xf0) >>2)+9] = 0x03) or (tcp[((tcp[12] & 0xf0) >>2)+10] = 0x03) or (tcp[((tcp[12] & 0xf0) >>2)] = 0x17) or (tcp[((tcp[12] & 0xf0) >>2)+1] = 0x03) or (tcp[((tcp[12] & 0xf0) >>2)] = 0x15) or (tcp[((tcp[12] & 0xf0) >>2)] = 0x21)\" & (sleep 10; curl 'https://www.finance.yahoo.com' > /dev/null) & (sleep 10;curl 'https://www.finance.yahoo.com' > /dev/null) & (sleep 10;curl 'https://www.finance.yahoo.com'> /dev/null) & (sleep 10;curl 'https://www.finance.yahoo.com'> /dev/null) & (sleep 10;curl 'https://www.finance.yahoo.com'> /dev/null) & (sleep 10;curl 'https://www.finance.yahoo.com'> /dev/null) & (sleep 10;curl 'https://www.finance.yahoo.com' > /dev/null) & (sleep 10; curl 'https://www.finance.yahoo.com' > /dev/null) & (sleep 10; curl 'https://www.finance.yahoo.com' > /dev/null) & (sleep 10; curl 'https://www.finance.yahoo.com' > /dev/null)  & (sleep 110; killall tcpdump)"
   ]
  },
  {
   "cell_type": "code",
   "execution_count": null,
   "metadata": {
    "id": "a-e0__6GKg7Q"
   },
   "outputs": [],
   "source": [
    "!tcpdump -i eth0 -w 'nypost.pcapng' \"(tcp[((tcp[12] & 0xf0) >>2)] = 0x16) or (tcp[((tcp[12] & 0xf0) >>2)+9] = 0x03) or (tcp[((tcp[12] & 0xf0) >>2)+10] = 0x03) or (tcp[((tcp[12] & 0xf0) >>2)] = 0x17) or (tcp[((tcp[12] & 0xf0) >>2)+1] = 0x03) or (tcp[((tcp[12] & 0xf0) >>2)] = 0x15) or (tcp[((tcp[12] & 0xf0) >>2)] = 0x21)\" & (sleep 10 ;curl 'https://www.nypost.com' >/dev/null) & (sleep 10 ;curl 'https://www.nypost.com'>/dev/null) & (sleep 10 ;curl 'https://www.nypost.com'>/dev/null) & (sleep 10 ;curl 'https://www.nypost.com'>/dev/null) & (sleep 10 ;curl 'https://www.nypost.com'>/dev/null) & (sleep 10 ;curl 'https://www.nypost.com'>/dev/null) & (sleep 10 ;curl 'https://www.nypost.com'>/dev/null) & (sleep 10 ;curl 'https://www.nypost.com'>/dev/null) & (sleep 10 ;curl 'https://www.nypost.com' >/dev/null) & (sleep 10 ;curl 'https://www.nypost.com' >/dev/null) & (sleep 110; killall tcpdump)"
   ]
  },
  {
   "cell_type": "code",
   "execution_count": null,
   "metadata": {
    "id": "VfVt_LrvKjYk"
   },
   "outputs": [],
   "source": [
    "!tcpdump -i eth0 -w 'theguardian.pcapng' \"(tcp[((tcp[12] & 0xf0) >>2)] = 0x16) or (tcp[((tcp[12] & 0xf0) >>2)+9] = 0x03) or (tcp[((tcp[12] & 0xf0) >>2)+10] = 0x03) or (tcp[((tcp[12] & 0xf0) >>2)] = 0x17) or (tcp[((tcp[12] & 0xf0) >>2)+1] = 0x03) or (tcp[((tcp[12] & 0xf0) >>2)] = 0x15) or (tcp[((tcp[12] & 0xf0) >>2)] = 0x21)\" & (sleep 10;curl 'https://www.theguardian.com'>/dev/null) & (sleep 10;curl 'https://www.theguardian.com'>/dev/null) & (sleep 10;curl 'https://www.theguardian.com'>/dev/null) & (sleep 10;curl 'https://www.theguardian.com'>/dev/null) & (sleep 10;curl 'https://www.theguardian.com'>/dev/null) & (sleep 10;curl 'https://www.theguardian.com'>/dev/null) & (curl 'https://www.theguardian.com' >/dev/null) & (sleep 10;curl 'https://www.theguardian.com'>/dev/null) & (sleep 10;curl 'https://www.theguardian.com' >/dev/null)  & (sleep 110; killall tcpdump)"
   ]
  },
  {
   "cell_type": "code",
   "execution_count": null,
   "metadata": {
    "id": "a2fCTfOeKlqJ"
   },
   "outputs": [],
   "source": [
    "!tcpdump -i eth0 -w 'bbc.pcapng' \"(tcp[((tcp[12] & 0xf0) >>2)] = 0x16) or (tcp[((tcp[12] & 0xf0) >>2)+9] = 0x03) or (tcp[((tcp[12] & 0xf0) >>2)+10] = 0x03) or (tcp[((tcp[12] & 0xf0) >>2)] = 0x17) or (tcp[((tcp[12] & 0xf0) >>2)+1] = 0x03) or (tcp[((tcp[12] & 0xf0) >>2)] = 0x15) or (tcp[((tcp[12] & 0xf0) >>2)] = 0x21)\" & (sleep 10;curl 'https://www.bbc.co.uk'>/dev/null) & (sleep 10;curl 'https://www.bbc.co.uk'>/dev/null) & (sleep 10;curl 'https://www.bbc.co.uk'>/dev/null) & (sleep 10;curl 'https://www.bbc.co.uk'>/dev/null) & (sleep 10;curl 'https://www.bbc.co.uk'>/dev/null) & (sleep 10;curl 'https://www.bbc.co.uk'>/dev/null) & (sleep 10;curl 'https://www.bbc.co.uk' >/dev/null) & (sleep 10;curl 'https://www.bbc.co.uk' >/dev/null) & (sleep 10;curl 'https://www.bbc.co.uk'>/dev/null) & (sleep 10;curl 'https://www.bbc.co.uk'>/dev/null)  & (sleep 110; killall tcpdump)"
   ]
  },
  {
   "cell_type": "code",
   "execution_count": null,
   "metadata": {
    "id": "Egj7S_wzKll9"
   },
   "outputs": [],
   "source": [
    "!tcpdump -i eth0 -w 'nytimes.pcapng' \"(tcp[((tcp[12] & 0xf0) >>2)] = 0x16) or (tcp[((tcp[12] & 0xf0) >>2)+9] = 0x03) or (tcp[((tcp[12] & 0xf0) >>2)+10] = 0x03) or (tcp[((tcp[12] & 0xf0) >>2)] = 0x17) or (tcp[((tcp[12] & 0xf0) >>2)+1] = 0x03) or (tcp[((tcp[12] & 0xf0) >>2)] = 0x15) or (tcp[((tcp[12] & 0xf0) >>2)] = 0x21)\" & (sleep 10;curl 'https://www.nytimes.com'>/dev/null) & (sleep 10;curl 'https://www.nytimes.com'>/dev/null) & (sleep 10;curl 'https://www.nytimes.com' >/dev/null) & (sleep 10;curl 'https://www.nytimes.com'>/dev/null) & (sleep 10;curl 'https://www.nytimes.com'>/dev/null) & (sleep 10;curl 'https://www.nytimes.com' >/dev/null) & (sleep 10;curl 'https://www.nytimes.com'  >/dev/null) & (sleep 10;curl 'https://www.nytimes.com' >/dev/null) & (sleep 10;curl 'https://www.nytimes.com' >/dev/null) & (sleep 10;curl 'https://www.nytimes.com' >/dev/null)  & (sleep 110; killall tcpdump)"
   ]
  },
  {
   "cell_type": "code",
   "execution_count": null,
   "metadata": {
    "id": "MqssgARgKioE"
   },
   "outputs": [],
   "source": [
    "!tcpdump -i eth0 -w 'cnn.pcapng' \"(tcp[((tcp[12] & 0xf0) >>2)] = 0x16) or (tcp[((tcp[12] & 0xf0) >>2)+9] = 0x03) or (tcp[((tcp[12] & 0xf0) >>2)+10] = 0x03) or (tcp[((tcp[12] & 0xf0) >>2)] = 0x17) or (tcp[((tcp[12] & 0xf0) >>2)+1] = 0x03) or (tcp[((tcp[12] & 0xf0) >>2)] = 0x15) or (tcp[((tcp[12] & 0xf0) >>2)] = 0x21)\" & (sleep 10; curl 'https://www.cnn.com'>/dev/null) & (sleep 10;curl 'https://www.cnn.com'>/dev/null) & (sleep 10;curl 'https://www.cnn.com'>/dev/null) & (sleep 10;curl 'https://www.cnn.com'>/dev/null) & (sleep 10;curl 'https://www.cnn.com'>/dev/null) & (sleep 10;curl 'https://www.cnn.com'>/dev/null) & (sleep 10;curl 'https://www.cnn.com'>/dev/null) & (sleep 10;curl 'https://www.cnn.com'>/dev/null) & (sleep 10;curl 'https://www.cnn.com'>/dev/null) & (sleep 10;curl 'https://www.cnn.com' >/dev/null)  &  (sleep 110; killall tcpdump)"
   ]
  },
  {
   "cell_type": "code",
   "execution_count": 341,
   "metadata": {
    "colab": {
     "base_uri": "https://localhost:8080/"
    },
    "id": "6JogtoWYIEeT",
    "outputId": "b0978685-921e-4238-a653-59fea8b3ca18"
   },
   "outputs": [
    {
     "name": "stdout",
     "output_type": "stream",
     "text": [
      "tcpdump: listening on eth0, link-type EN10MB (Ethernet), capture size 262144 bytes\n",
      "  % Total    % Received % Xferd  Average Speed   Time    Time     Time  Current\n",
      "                                 Dload  Upload   Total   Spent    Left  Speed\n",
      "  0     0    0     0    0     0      0      0 --:--:-- --:--:-- --:--:--     0  % Total    % Received % Xferd  Average Speed   Time    Time     Time  Current\n",
      "                                 Dload  Upload   Total   Spent    Left  Speed\n",
      "  0     0    0     0    0     0      0      0 --:--:-- --:--:-- --:--:--     0  % Total    % Received % Xferd  Average Speed   Time    Time     Time  Current\n",
      "                                 Dload  Upload   Total   Spent    Left  Speed\n",
      "100   479  100   479    0     0   1735      0 --:--:-- --:--:-- --:--:--  1735\n",
      "100    11  100    11    0     0     21      0 --:--:-- --:--:-- --:--:--    21\n",
      "100    11  100    11    0     0     10      0  0:00:01  0:00:01 --:--:--    10\n",
      "47 packets captured\n",
      "47 packets received by filter\n",
      "0 packets dropped by kernel\n"
     ]
    }
   ],
   "source": [
    "!tcpdump -i eth0 -w \"washingtonpost.pcapng\" \"(tcp[((tcp[12] & 0xf0) >>2)] = 0x16) or (tcp[((tcp[12] & 0xf0) >>2)+9] = 0x03) or (tcp[((tcp[12] & 0xf0) >>2)+10] = 0x03) or (tcp[((tcp[12] & 0xf0) >>2)] = 0x17) or (tcp[((tcp[12] & 0xf0) >>2)+1] = 0x03) or (tcp[((tcp[12] & 0xf0) >>2)] = 0x15) or (tcp[((tcp[12] & 0xf0) >>2)] = 0x21)\"  & (sleep 10;curl 'https://www.whasingtonpost.com'> /dev/null) & (sleep 10;curl 'https://www.whasingtonpost.com'> /dev/null) & (sleep 10; curl 'https://www.whasingtonpost.com'> /dev/null)  & (sleep 110;killall tcpdump) "
   ]
  },
  {
   "cell_type": "markdown",
   "metadata": {
    "id": "4fMKRy9HKrMP"
   },
   "source": [
    "##tshark commands"
   ]
  },
  {
   "cell_type": "code",
   "execution_count": null,
   "metadata": {
    "colab": {
     "base_uri": "https://localhost:8080/"
    },
    "id": "-ZadHCs1MUpy",
    "outputId": "d603a168-5272-4241-d321-92af734b8129"
   },
   "outputs": [
    {
     "name": "stdout",
     "output_type": "stream",
     "text": [
      "Running as user \"root\" and group \"root\". This could be dangerous.\n"
     ]
    }
   ],
   "source": [
    "!tshark -r \"abc.pcapng\" -R \"tcp\" -2 -T fields -e frame.number -e frame.time -e frame.len -e frame.cap_len -e sll.pkttype -e sll.hatype -e sll.halen -e sll.src.eth -e sll.unused -e sll.etype -e ip.hdr_len -e ip.dsfield.ecn -e ip.len -e ip.id -e ip.frag_offset -e ip.ttl -e ip.proto -e ip.checksum -e ip.src -e ip.dst -e tcp.len -e tcp.srcport -e tcp.dstport -e tcp.seq -e tcp.ack -e tcp.flags.fin -e tcp.flags.ack -e tcp.window_size_value -e tcp.checksum -e tcp.urgent_pointer -e tcp.option_kind -e tcp.options.timestamp.tsval -e tcp.options.timestamp.tsecr -e udp.srcport -e udp.dstport -e udp.length -e udp.checksum -e gquic.puflags.rsv -e gquic.packet_number  -E header=y -E separator=, -E quote=d -E occurrence=f > abc.csv"
   ]
  },
  {
   "cell_type": "code",
   "execution_count": null,
   "metadata": {
    "colab": {
     "base_uri": "https://localhost:8080/"
    },
    "id": "cVQVh0rgMUkT",
    "outputId": "81ff600c-c883-4755-979a-8e6bcd556e14"
   },
   "outputs": [
    {
     "name": "stdout",
     "output_type": "stream",
     "text": [
      "Running as user \"root\" and group \"root\". This could be dangerous.\n"
     ]
    }
   ],
   "source": [
    "!tshark -r \"daily_mail.pcapng\" -R \"tcp\" -2 -T fields -e frame.number -e frame.time -e frame.len -e frame.cap_len -e sll.pkttype -e sll.hatype -e sll.halen -e sll.src.eth -e sll.unused -e sll.etype -e ip.hdr_len -e ip.dsfield.ecn -e ip.len -e ip.id -e ip.frag_offset -e ip.ttl -e ip.proto -e ip.checksum -e ip.src -e ip.dst -e tcp.len -e tcp.srcport -e tcp.dstport -e tcp.seq -e tcp.ack -e tcp.flags.fin -e tcp.window_size_value -e tcp.checksum -e tcp.urgent_pointer -e tcp.option_kind -e tcp.options.timestamp.tsval -e tcp.options.timestamp.tsecr -e udp.srcport -e udp.dstport -e udp.length -e udp.checksum -e gquic.puflags.rsv -e gquic.packet_number  -E header=y -E separator=, -E quote=d -E occurrence=f > dayli_mail.csv"
   ]
  },
  {
   "cell_type": "code",
   "execution_count": null,
   "metadata": {
    "colab": {
     "base_uri": "https://localhost:8080/"
    },
    "id": "f5yKkJH0MUfT",
    "outputId": "347ed23a-5f3a-474f-818c-60316d9d723e"
   },
   "outputs": [
    {
     "name": "stdout",
     "output_type": "stream",
     "text": [
      "Running as user \"root\" and group \"root\". This could be dangerous.\n"
     ]
    }
   ],
   "source": [
    "!tshark -r \"express.pcapng\" -R \"tcp\" -2 -T fields -e frame.number -e frame.time -e frame.len -e frame.cap_len -e sll.pkttype -e sll.hatype -e sll.halen -e sll.src.eth -e sll.unused -e sll.etype -e ip.hdr_len -e ip.dsfield.ecn -e ip.len -e ip.id -e ip.frag_offset -e ip.ttl -e ip.proto -e ip.checksum -e ip.src -e ip.dst -e tcp.len -e tcp.srcport -e tcp.dstport -e tcp.seq -e tcp.ack -e tcp.flags.fin -e tcp.window_size_value -e tcp.checksum -e tcp.urgent_pointer -e tcp.option_kind -e tcp.options.timestamp.tsval -e tcp.options.timestamp.tsecr -e udp.srcport -e udp.dstport -e udp.length -e udp.checksum -e gquic.puflags.rsv -e gquic.packet_number  -E header=y -E separator=, -E quote=d -E occurrence=f > express.csv"
   ]
  },
  {
   "cell_type": "code",
   "execution_count": null,
   "metadata": {
    "colab": {
     "base_uri": "https://localhost:8080/"
    },
    "id": "ujOh_zpMMUZ3",
    "outputId": "36bd9551-2b18-4c6b-ec25-6c61e2c0ae8e"
   },
   "outputs": [
    {
     "name": "stdout",
     "output_type": "stream",
     "text": [
      "Running as user \"root\" and group \"root\". This could be dangerous.\n"
     ]
    }
   ],
   "source": [
    "!tshark -r \"indiatimes.pcapng\" -R \"tcp\" -2 -T fields -e frame.number -e frame.time -e frame.len -e frame.cap_len -e sll.pkttype -e sll.hatype -e sll.halen -e sll.src.eth -e sll.unused -e sll.etype -e ip.hdr_len -e ip.dsfield.ecn -e ip.len -e ip.id -e ip.frag_offset -e ip.ttl -e ip.proto -e ip.checksum -e ip.src -e ip.dst -e tcp.len -e tcp.srcport -e tcp.dstport -e tcp.seq -e tcp.ack -e tcp.flags.fin -e tcp.window_size_value -e tcp.checksum -e tcp.urgent_pointer -e tcp.option_kind -e tcp.options.timestamp.tsval -e tcp.options.timestamp.tsecr -e udp.srcport -e udp.dstport -e udp.length -e udp.checksum -e gquic.puflags.rsv -e gquic.packet_number  -E header=y -E separator=, -E quote=d -E occurrence=f > indiatimes.csv"
   ]
  },
  {
   "cell_type": "code",
   "execution_count": null,
   "metadata": {
    "colab": {
     "base_uri": "https://localhost:8080/"
    },
    "id": "7kE6Q29QMUUY",
    "outputId": "a10dc187-c2a9-4c9f-e41f-fe3b4c1c4b04"
   },
   "outputs": [
    {
     "name": "stdout",
     "output_type": "stream",
     "text": [
      "Running as user \"root\" and group \"root\". This could be dangerous.\n"
     ]
    }
   ],
   "source": [
    "!tshark -r \"news_18.pcapng\" -R \"tcp\" -2 -T fields -e frame.number -e frame.time -e frame.len -e frame.cap_len -e sll.pkttype -e sll.hatype -e sll.halen -e sll.src.eth -e sll.unused -e sll.etype -e ip.hdr_len -e ip.dsfield.ecn -e ip.len -e ip.id -e ip.frag_offset -e ip.ttl -e ip.proto -e ip.checksum -e ip.src -e ip.dst -e tcp.len -e tcp.srcport -e tcp.dstport -e tcp.seq -e tcp.ack -e tcp.flags.fin -e tcp.window_size_value -e tcp.checksum -e tcp.urgent_pointer -e tcp.option_kind -e tcp.options.timestamp.tsval -e tcp.options.timestamp.tsecr -e udp.srcport -e udp.dstport -e udp.length -e udp.checksum -e gquic.puflags.rsv -e gquic.packet_number  -E header=y -E separator=, -E quote=d -E occurrence=f > news18.csv"
   ]
  },
  {
   "cell_type": "code",
   "execution_count": null,
   "metadata": {
    "colab": {
     "base_uri": "https://localhost:8080/"
    },
    "id": "_50sONhjMUQS",
    "outputId": "22ab366c-1c2f-4b1a-daf5-5eb5291d735d"
   },
   "outputs": [
    {
     "name": "stdout",
     "output_type": "stream",
     "text": [
      "Running as user \"root\" and group \"root\". This could be dangerous.\n"
     ]
    }
   ],
   "source": [
    "!tshark -r \"news_google.pcapng\" -R \"tcp\" -2 -T fields -e frame.number -e frame.time -e frame.len -e frame.cap_len -e sll.pkttype -e sll.hatype -e sll.halen -e sll.src.eth -e sll.unused -e sll.etype -e ip.hdr_len -e ip.dsfield.ecn -e ip.len -e ip.id -e ip.frag_offset -e ip.ttl -e ip.proto -e ip.checksum -e ip.src -e ip.dst -e tcp.len -e tcp.srcport -e tcp.dstport -e tcp.seq -e tcp.ack -e tcp.flags.fin -e tcp.window_size_value -e tcp.checksum -e tcp.urgent_pointer -e tcp.option_kind -e tcp.options.timestamp.tsval -e tcp.options.timestamp.tsecr -e udp.srcport -e udp.dstport -e udp.length -e udp.checksum -e gquic.puflags.rsv -e gquic.packet_number  -E header=y -E separator=, -E quote=d -E occurrence=f > newsgoogle.csv"
   ]
  },
  {
   "cell_type": "code",
   "execution_count": null,
   "metadata": {
    "colab": {
     "base_uri": "https://localhost:8080/"
    },
    "id": "0IXjys9_MULD",
    "outputId": "762b1038-5a31-4b70-f47d-b4772fcd0e64"
   },
   "outputs": [
    {
     "name": "stdout",
     "output_type": "stream",
     "text": [
      "Running as user \"root\" and group \"root\". This could be dangerous.\n"
     ]
    }
   ],
   "source": [
    "!tshark -r \"news_yahoo.pcapng\" -R \"tcp\" -2 -T fields -e frame.number -e frame.time -e frame.len -e frame.cap_len -e sll.pkttype -e sll.hatype -e sll.halen -e sll.src.eth -e sll.unused -e sll.etype -e ip.hdr_len -e ip.dsfield.ecn -e ip.len -e ip.id -e ip.frag_offset -e ip.ttl -e ip.proto -e ip.checksum -e ip.src -e ip.dst -e tcp.len -e tcp.srcport -e tcp.dstport -e tcp.seq -e tcp.ack -e tcp.flags.fin -e tcp.window_size_value -e tcp.checksum -e tcp.urgent_pointer -e tcp.option_kind -e tcp.options.timestamp.tsval -e tcp.options.timestamp.tsecr -e udp.srcport -e udp.dstport -e udp.length -e udp.checksum -e gquic.puflags.rsv -e gquic.packet_number  -E header=y -E separator=, -E quote=d -E occurrence=f > news_yahoo.csv"
   ]
  },
  {
   "cell_type": "code",
   "execution_count": null,
   "metadata": {
    "colab": {
     "base_uri": "https://localhost:8080/"
    },
    "id": "KGscEArOMUGK",
    "outputId": "eef18f88-e344-4661-dd72-ab25adc5e086"
   },
   "outputs": [
    {
     "name": "stdout",
     "output_type": "stream",
     "text": [
      "Running as user \"root\" and group \"root\". This could be dangerous.\n"
     ]
    }
   ],
   "source": [
    "!tshark -r \"timesofindia.pcapng\" -R \"tcp\" -2 -T fields -e frame.number -e frame.time -e frame.len -e frame.cap_len -e sll.pkttype -e sll.hatype -e sll.halen -e sll.src.eth -e sll.unused -e sll.etype -e ip.hdr_len -e ip.dsfield.ecn -e ip.len -e ip.id -e ip.frag_offset -e ip.ttl -e ip.proto -e ip.checksum -e ip.src -e ip.dst -e tcp.len -e tcp.srcport -e tcp.dstport -e tcp.seq -e tcp.ack -e tcp.flags.fin -e tcp.window_size_value -e tcp.checksum -e tcp.urgent_pointer -e tcp.option_kind -e tcp.options.timestamp.tsval -e tcp.options.timestamp.tsecr -e udp.srcport -e udp.dstport -e udp.length -e udp.checksum -e gquic.puflags.rsv -e gquic.packet_number  -E header=y -E separator=, -E quote=d -E occurrence=f > timesofindia.csv"
   ]
  },
  {
   "cell_type": "code",
   "execution_count": null,
   "metadata": {
    "colab": {
     "base_uri": "https://localhost:8080/"
    },
    "id": "fw211EmDK2Yt",
    "outputId": "62aae31f-0666-4f36-f74c-b73c7b24123c"
   },
   "outputs": [
    {
     "name": "stdout",
     "output_type": "stream",
     "text": [
      "Running as user \"root\" and group \"root\". This could be dangerous.\n"
     ]
    }
   ],
   "source": [
    "!tshark -r \"ndtv_capture.pcapng\" -R \"tcp\" -2 -T fields -e frame.number -e frame.time -e frame.len -e frame.cap_len -e sll.pkttype -e sll.hatype -e sll.halen -e sll.src.eth -e sll.unused -e sll.etype -e ip.hdr_len -e ip.dsfield.ecn -e ip.len -e ip.id -e ip.frag_offset -e ip.ttl -e ip.proto -e ip.checksum -e ip.src -e ip.dst -e tcp.len -e tcp.srcport -e tcp.dstport -e tcp.seq -e tcp.ack -e tcp.flags.fin -e tcp.window_size_value -e tcp.checksum -e tcp.urgent_pointer -e tcp.option_kind -e tcp.options.timestamp.tsval -e tcp.options.timestamp.tsecr -e udp.srcport -e udp.dstport -e udp.length -e udp.checksum -e gquic.puflags.rsv -e gquic.packet_number  -E header=y -E separator=, -E quote=d -E occurrence=f > ndtv.csv"
   ]
  },
  {
   "cell_type": "code",
   "execution_count": null,
   "metadata": {
    "colab": {
     "base_uri": "https://localhost:8080/"
    },
    "id": "CqPrNY21K2Pe",
    "outputId": "537d8b9f-10ac-40a7-aea3-daba16e24cee"
   },
   "outputs": [
    {
     "name": "stdout",
     "output_type": "stream",
     "text": [
      "Running as user \"root\" and group \"root\". This could be dangerous.\n"
     ]
    }
   ],
   "source": [
    "!tshark -r \"washingtonpost.pcapng\" -R \"tcp\" -2 -T fields -e frame.number -e frame.time -e frame.len -e frame.cap_len -e sll.pkttype -e sll.hatype -e sll.halen -e sll.src.eth -e sll.unused -e sll.etype -e ip.hdr_len -e ip.dsfield.ecn -e ip.len -e ip.id -e ip.frag_offset -e ip.ttl -e ip.proto -e ip.checksum -e ip.src -e ip.dst -e tcp.len -e tcp.srcport -e tcp.dstport -e tcp.seq -e tcp.ack -e tcp.flags.fin -e tcp.window_size_value -e tcp.checksum -e tcp.urgent_pointer -e tcp.option_kind -e tcp.options.timestamp.tsval -e tcp.options.timestamp.tsecr -e udp.srcport -e udp.dstport -e udp.length -e udp.checksum -e gquic.puflags.rsv -e gquic.packet_number  -E header=y -E separator=, -E quote=d -E occurrence=f > washingtonpost.csv"
   ]
  },
  {
   "cell_type": "code",
   "execution_count": null,
   "metadata": {
    "colab": {
     "base_uri": "https://localhost:8080/"
    },
    "id": "QCCMtaBoK2Ic",
    "outputId": "c52729fb-2bfd-4f05-bcea-058bcaf3d12b"
   },
   "outputs": [
    {
     "name": "stdout",
     "output_type": "stream",
     "text": [
      "Running as user \"root\" and group \"root\". This could be dangerous.\n"
     ]
    }
   ],
   "source": [
    "!tshark -r \"msn.pcapng\" -R \"tcp\"  -2 -T fields -e frame.number -e frame.time -e frame.len -e frame.cap_len -e sll.pkttype -e sll.hatype -e sll.halen -e sll.src.eth -e sll.unused -e sll.etype -e ip.hdr_len -e ip.dsfield.ecn -e ip.len -e ip.id -e ip.frag_offset -e ip.ttl -e ip.proto -e ip.checksum -e ip.src -e ip.dst -e tcp.len -e tcp.srcport -e tcp.dstport -e tcp.seq -e tcp.ack -e tcp.flags.fin -e tcp.window_size_value -e tcp.checksum -e tcp.urgent_pointer -e tcp.option_kind -e tcp.options.timestamp.tsval -e tcp.options.timestamp.tsecr -e udp.srcport -e udp.dstport -e udp.length -e udp.checksum -e gquic.puflags.rsv -e gquic.packet_number  -E header=y -E separator=, -E quote=d -E occurrence=f > msn.csv"
   ]
  },
  {
   "cell_type": "code",
   "execution_count": null,
   "metadata": {
    "colab": {
     "base_uri": "https://localhost:8080/"
    },
    "id": "6OWXyXdVK1kl",
    "outputId": "4c08fea2-4574-4f9a-a803-ff4d2b02326d"
   },
   "outputs": [
    {
     "name": "stdout",
     "output_type": "stream",
     "text": [
      "Running as user \"root\" and group \"root\". This could be dangerous.\n"
     ]
    }
   ],
   "source": [
    "!tshark -r \"rt.pcapng\"  -2 -T fields -e frame.number -e frame.time -e frame.len -e frame.cap_len -e sll.pkttype -e sll.hatype -e sll.halen -e sll.src.eth -e sll.unused -e sll.etype -e ip.hdr_len -e ip.dsfield.ecn -e ip.len -e ip.id -e ip.frag_offset -e ip.ttl -e ip.proto -e ip.checksum -e ip.src -e ip.dst -e tcp.len -e tcp.srcport -e tcp.dstport -e tcp.seq -e tcp.ack -e tcp.flags.fin -e tcp.window_size_value -e tcp.checksum -e tcp.urgent_pointer -e tcp.option_kind -e tcp.options.timestamp.tsval -e tcp.options.timestamp.tsecr -e udp.srcport -e udp.dstport -e udp.length -e udp.checksum -e gquic.puflags.rsv -e gquic.packet_number  -E header=y -E separator=, -E quote=d -E occurrence=f > rt.csv"
   ]
  },
  {
   "cell_type": "code",
   "execution_count": null,
   "metadata": {
    "colab": {
     "base_uri": "https://localhost:8080/"
    },
    "id": "QcAMF9dCK1bZ",
    "outputId": "a91fd060-c297-4057-80bf-b918cfd4c516"
   },
   "outputs": [
    {
     "name": "stdout",
     "output_type": "stream",
     "text": [
      "Running as user \"root\" and group \"root\". This could be dangerous.\n"
     ]
    }
   ],
   "source": [
    "!tshark -r 'foxnews.pcapng' -R \"tcp\" -2 -T fields -e frame.number -e frame.time -e frame.len -e frame.cap_len -e sll.pkttype -e sll.hatype -e sll.halen -e sll.src.eth -e sll.unused -e sll.etype -e ip.hdr_len -e ip.dsfield.ecn -e ip.len -e ip.id -e ip.frag_offset -e ip.ttl -e ip.proto -e ip.checksum -e ip.src -e ip.dst -e tcp.len -e tcp.srcport -e tcp.dstport -e tcp.seq -e tcp.ack -e tcp.flags.fin -e tcp.window_size_value -e tcp.checksum -e tcp.urgent_pointer -e tcp.option_kind -e tcp.options.timestamp.tsval -e tcp.options.timestamp.tsecr -e udp.srcport -e udp.dstport -e udp.length -e udp.checksum -e gquic.puflags.rsv -e gquic.packet_number  -E header=y -E separator=, -E quote=d -E occurrence=f > foxnews.csv"
   ]
  },
  {
   "cell_type": "code",
   "execution_count": null,
   "metadata": {
    "colab": {
     "base_uri": "https://localhost:8080/"
    },
    "id": "0fb0lidBKyzn",
    "outputId": "764462e8-8215-4938-b851-3a1b01425c64"
   },
   "outputs": [
    {
     "name": "stdout",
     "output_type": "stream",
     "text": [
      "Running as user \"root\" and group \"root\". This could be dangerous.\n"
     ]
    }
   ],
   "source": [
    "!tshark -r 'finance_yahoo.pcapng' -R \"tcp\" -2 -T fields -e frame.number -e frame.time -e frame.len -e frame.cap_len -e sll.pkttype -e sll.hatype -e sll.halen -e sll.src.eth -e sll.unused -e sll.etype -e ip.hdr_len -e ip.dsfield.ecn -e ip.len -e ip.id -e ip.frag_offset -e ip.ttl -e ip.proto -e ip.checksum -e ip.src -e ip.dst -e tcp.len -e tcp.srcport -e tcp.dstport -e tcp.seq -e tcp.ack -e tcp.flags.fin -e tcp.window_size_value -e tcp.checksum -e tcp.urgent_pointer -e tcp.option_kind -e tcp.options.timestamp.tsval -e tcp.options.timestamp.tsecr -e udp.srcport -e udp.dstport -e udp.length -e udp.checksum -e gquic.puflags.rsv -e gquic.packet_number  -E header=y -E separator=, -E quote=d -E occurrence=f > finance_yahoo.csv"
   ]
  },
  {
   "cell_type": "code",
   "execution_count": null,
   "metadata": {
    "colab": {
     "base_uri": "https://localhost:8080/"
    },
    "id": "zCmRbTMEKyt9",
    "outputId": "268e4504-b9ff-4ab0-be8c-dac9234d5f26"
   },
   "outputs": [
    {
     "name": "stdout",
     "output_type": "stream",
     "text": [
      "Running as user \"root\" and group \"root\". This could be dangerous.\n"
     ]
    }
   ],
   "source": [
    "!tshark -r 'nypost.pcapng' -R \"tcp\" -2 -T fields -e frame.number -e frame.time -e frame.len -e frame.cap_len -e sll.pkttype -e sll.hatype -e sll.halen -e sll.src.eth -e sll.unused -e sll.etype -e ip.hdr_len -e ip.dsfield.ecn -e ip.len -e ip.id -e ip.frag_offset -e ip.ttl -e ip.proto -e ip.checksum -e ip.src -e ip.dst -e tcp.len -e tcp.srcport -e tcp.dstport -e tcp.seq -e tcp.ack -e tcp.flags.fin -e tcp.window_size_value -e tcp.checksum -e tcp.urgent_pointer -e tcp.option_kind -e tcp.options.timestamp.tsval -e tcp.options.timestamp.tsecr -e udp.srcport -e udp.dstport -e udp.length -e udp.checksum -e gquic.puflags.rsv -e gquic.packet_number  -E header=y -E separator=, -E quote=d -E occurrence=f  > nypost.csv"
   ]
  },
  {
   "cell_type": "code",
   "execution_count": null,
   "metadata": {
    "colab": {
     "base_uri": "https://localhost:8080/"
    },
    "id": "LJzTF72sKyoY",
    "outputId": "d5aa1b6a-09a7-4e57-fe72-4af0b7dd7a9e"
   },
   "outputs": [
    {
     "name": "stdout",
     "output_type": "stream",
     "text": [
      "Running as user \"root\" and group \"root\". This could be dangerous.\n"
     ]
    }
   ],
   "source": [
    "!tshark -r 'cnn.pcapng' -R \"tcp\" -2 -T fields -e frame.number -e frame.time -e frame.len -e frame.cap_len -e sll.pkttype -e sll.hatype -e sll.halen -e sll.src.eth -e sll.unused -e sll.etype -e ip.hdr_len -e ip.dsfield.ecn -e ip.len -e ip.id -e ip.frag_offset -e ip.ttl -e ip.proto -e ip.checksum -e ip.src -e ip.dst -e tcp.len -e tcp.srcport -e tcp.dstport -e tcp.seq -e tcp.ack -e tcp.flags.fin -e tcp.window_size_value -e tcp.checksum -e tcp.urgent_pointer -e tcp.option_kind -e tcp.options.timestamp.tsval -e tcp.options.timestamp.tsecr -e udp.srcport -e udp.dstport -e udp.length -e udp.checksum -e gquic.puflags.rsv -e gquic.packet_number  -E header=y -E separator=, -E quote=d -E occurrence=f > cnn.csv"
   ]
  },
  {
   "cell_type": "code",
   "execution_count": null,
   "metadata": {
    "colab": {
     "base_uri": "https://localhost:8080/"
    },
    "id": "3p0r5dl2Kyid",
    "outputId": "726c7dd9-e958-4295-e74d-86929d350efe"
   },
   "outputs": [
    {
     "name": "stdout",
     "output_type": "stream",
     "text": [
      "Running as user \"root\" and group \"root\". This could be dangerous.\n"
     ]
    }
   ],
   "source": [
    "!tshark -r 'theguardian.pcapng' -R \"tcp\" -2 -T fields -e frame.number -e frame.time -e frame.len -e frame.cap_len -e sll.pkttype -e sll.hatype -e sll.halen -e sll.src.eth -e sll.unused -e sll.etype -e ip.hdr_len -e ip.dsfield.ecn -e ip.len -e ip.id -e ip.frag_offset -e ip.ttl -e ip.proto -e ip.checksum -e ip.src -e ip.dst -e tcp.len -e tcp.srcport -e tcp.dstport -e tcp.seq -e tcp.ack -e tcp.flags.fin -e tcp.window_size_value -e tcp.checksum -e tcp.urgent_pointer -e tcp.option_kind -e tcp.options.timestamp.tsval -e tcp.options.timestamp.tsecr -e udp.srcport -e udp.dstport -e udp.length -e udp.checksum -e gquic.puflags.rsv -e gquic.packet_number  -E header=y -E separator=, -E quote=d -E occurrence=f > theguardian.csv"
   ]
  },
  {
   "cell_type": "code",
   "execution_count": null,
   "metadata": {
    "colab": {
     "base_uri": "https://localhost:8080/"
    },
    "id": "LI7ynGHQKycl",
    "outputId": "8523d845-51ff-44a5-d021-e6339992b71a"
   },
   "outputs": [
    {
     "name": "stdout",
     "output_type": "stream",
     "text": [
      "Running as user \"root\" and group \"root\". This could be dangerous.\n"
     ]
    }
   ],
   "source": [
    "!tshark -r 'bbc.pcapng' -R \"tcp\" -2 -T fields -e frame.number -e frame.time -e frame.len -e frame.cap_len -e sll.pkttype -e sll.hatype -e sll.halen -e sll.src.eth -e sll.unused -e sll.etype -e ip.hdr_len -e ip.dsfield.ecn -e ip.len -e ip.id -e ip.frag_offset -e ip.ttl -e ip.proto -e ip.checksum -e ip.src -e ip.dst -e tcp.len -e tcp.srcport -e tcp.dstport -e tcp.seq -e tcp.ack -e tcp.flags.fin -e tcp.window_size_value -e tcp.checksum -e tcp.urgent_pointer -e tcp.option_kind -e tcp.options.timestamp.tsval -e tcp.options.timestamp.tsecr -e udp.srcport -e udp.dstport -e udp.length -e udp.checksum -e gquic.puflags.rsv -e gquic.packet_number  -E header=y -E separator=, -E quote=d -E occurrence=f > bbc.csv"
   ]
  },
  {
   "cell_type": "code",
   "execution_count": null,
   "metadata": {
    "colab": {
     "base_uri": "https://localhost:8080/"
    },
    "id": "m6WJOlk7KyXf",
    "outputId": "b58f9d43-b21c-416e-cd56-bda33e4427fb"
   },
   "outputs": [
    {
     "name": "stdout",
     "output_type": "stream",
     "text": [
      "Running as user \"root\" and group \"root\". This could be dangerous.\n"
     ]
    }
   ],
   "source": [
    "!tshark -r 'nytimes.pcapng' -R \"tcp\" -2 -T fields -e frame.number -e frame.time -e frame.len -e frame.cap_len -e sll.pkttype -e sll.hatype -e sll.halen -e sll.src.eth -e sll.unused -e sll.etype -e ip.hdr_len -e ip.dsfield.ecn -e ip.len -e ip.id -e ip.frag_offset -e ip.ttl -e ip.proto -e ip.checksum -e ip.src -e ip.dst -e tcp.len -e tcp.srcport -e tcp.dstport -e tcp.seq -e tcp.ack -e tcp.flags.fin -e tcp.window_size_value -e tcp.checksum -e tcp.urgent_pointer -e tcp.option_kind -e tcp.options.timestamp.tsval -e tcp.options.timestamp.tsecr -e udp.srcport -e udp.dstport -e udp.length -e udp.checksum -e gquic.puflags.rsv -e gquic.packet_number  -E header=y -E separator=, -E quote=d -E occurrence=f > nytimes.csv"
   ]
  },
  {
   "cell_type": "markdown",
   "metadata": {
    "id": "RAWm_ybILM7U"
   },
   "source": [
    "#biflow extraction & dataset generation\n",
    "\n",
    "at first the extract feature function is defined.\n",
    "It has a similiar structure with respect to the ones defined during lectures but with an additional input *counter* that will help in defining the datastructure containing the biflow characteristics.\n",
    "I have removed dport and sport since it was not asked and added separate fields for identifying uplink and downlink flows.\n",
    "\n",
    "## extract_features function with some modifications"
   ]
  },
  {
   "cell_type": "code",
   "execution_count": 352,
   "metadata": {
    "id": "1rQe9B85LSNe"
   },
   "outputs": [],
   "source": [
    "def extract_features(flow,df_flow,counter):\n",
    "  \n",
    "  #compute flow features:\n",
    "  #I create a dictionary in which I will append every characteristic of the flows\n",
    "  \n",
    "  flow_features = {}\n",
    "  #we know flow is characterized by having at position[0] the source\n",
    "  \n",
    "  if(flow[0]=='172.28.0.2'):\n",
    "  \n",
    "    flow_features['direction'] = 'uplink'\n",
    "    flow_features['src.ip'] = flow[0]  \n",
    "    flow_features['host.ip'] = flow[1] \n",
    "    flow_features['num_packets_up'] = len(df_flow);\n",
    "    pkt_sizes = df_flow['ip.len'].astype(float)\n",
    "    flow_features['total_bytes_up'] = pkt_sizes.sum()\n",
    "    flow_features['min_pkt_size_up'] = pkt_sizes.min() \n",
    "    flow_features['max_pkt_size_up'] = pkt_sizes.max()\n",
    "    flow_features['mean_pkt_size_up'] = pkt_sizes.mean()\n",
    "    flow_features['std_pkt_size_up'] = pkt_sizes.std()\n",
    "    iat = pd.to_datetime(df_flow['frame.time']).diff(1).dt.total_seconds().iloc[1:] #\n",
    "    flow_features['min_iat_up'] = iat.min()\n",
    "    flow_features['max_iat_up'] = iat.max()\n",
    "    flow_features['mean_iat_up'] = iat.mean()\n",
    "    flow_features['std_iat_up'] = iat.std()\n",
    "    flow_features['dur_up'] = iat.sum()\n",
    "    flow_features['counter'] = counter\n",
    "  else: \n",
    "    flow_features['direction'] = 'downlink'\n",
    "    flow_features['src.ip'] = flow[1]  \n",
    "    flow_features['host.ip'] = flow[0] \n",
    "    flow_features['num_packets_dw'] = len(df_flow);\n",
    "    pkt_sizes = df_flow['ip.len'].astype(float)\n",
    "    flow_features['total_bytes_dw'] = pkt_sizes.sum()\n",
    "    flow_features['min_pkt_size_dw'] = pkt_sizes.min() \n",
    "    flow_features['max_pkt_size_dw'] = pkt_sizes.max()\n",
    "    flow_features['mean_pkt_size_dw'] = pkt_sizes.mean()\n",
    "    flow_features['std_pkt_size_dw'] = pkt_sizes.std()\n",
    "    iat = pd.to_datetime(df_flow['frame.time']).diff(1).dt.total_seconds().iloc[1:] #\n",
    "    flow_features['min_iat_dw'] = iat.min()\n",
    "    flow_features['max_iat_dw'] = iat.max()\n",
    "    flow_features['mean_iat_dw'] = iat.mean()\n",
    "    flow_features['std_iat_dw'] = iat.std()\n",
    "    flow_features['dur_dw'] = iat.sum()\n",
    "    flow_features['counter'] = counter\n",
    "\n",
    "    \n",
    "  return flow_features\n",
    "\n",
    "#a key counter is instanziated that will help during the join()"
   ]
  },
  {
   "cell_type": "markdown",
   "metadata": {
    "id": "_oB8eVlgfIch"
   },
   "source": [
    "It is possible to choose to import the csv directly from a folder in the laptop or f.i. google drive. \n",
    "In this case I have preferred to store them in '/content' folder that is the same used for the entire simulation.\n",
    "\n",
    "## explanation of the code used for dataset generation and biflow extraction\n",
    "\n",
    "\n",
    "In order to create the biflow dataset I have created two distincts dataframes, one for the uplink and the other for the downlink.\n",
    "According to the flow that was analyzed in a .csv file,\n",
    " the filter \n",
    "`if(flow[0]=='172.28.0.2'):`\n",
    "\n",
    "has made possible to understand the direction of the packet and so the contruction of the two datasets(dataset_up and dataset_dw).\n",
    "These are auxialiary structures used for the construction the the final dataset.\n",
    "\n",
    "\n",
    "\n",
    "As **ground truth** information I have used the url of the website that was targeted in the form: \n",
    "\n",
    "\n",
    "```\n",
    "www.websitetargeted.com\n",
    "```\n",
    "\n",
    "\n",
    "  \n"
   ]
  },
  {
   "cell_type": "code",
   "execution_count": null,
   "metadata": {
    "id": "are3vMroMAtV"
   },
   "outputs": [],
   "source": [
    "\n",
    "from os import listdir\n",
    "from os.path import isfile, join\n",
    "import numpy as np\n",
    "import pandas as pd\n",
    "\n",
    "dataset_dw = pd.DataFrame()\n",
    "dataset_up = pd.DataFrame()\n",
    "\n",
    "path = '/content'\n",
    "tcpdumpfiles = [f for f in listdir(path) if isfile(join(path, f))]\n",
    "gt= np.unique([f.split('_')[0] for f in tcpdumpfiles])\n",
    "#print(gt, len(gt), len(tcpdumpfiles))\n",
    "\n",
    "#variables for up and dw in order to generate the biflow dataset\n",
    "counter_up=0\n",
    "counter_dw=0\n",
    "\n",
    "for f in tcpdumpfiles:\n",
    "  \n",
    "  print('Processing file  ', f)\n",
    "\n",
    "  df = pd.read_csv(join(path,f))\n",
    "  #I want just tcp traffic\n",
    "  df_https = df[df[\"ip.proto\"]==6]\n",
    "  \n",
    "  df_https = df_https.groupby([\"ip.src\",\"ip.dst\",\"tcp.srcport\",\"tcp.dstport\"])\n",
    "  \n",
    "  for flow,df_flow in df_https: \n",
    "    \n",
    "    if(flow[0]=='172.28.0.2'):\n",
    "      \n",
    "      flow_features = extract_features(flow,df_flow,counter_up)\n",
    "      flow_features['gt'] = 'www.' + f.split('.')[0] + '.com';\n",
    "      counter_up =counter_up + 1;   \n",
    "    \n",
    "    else:\n",
    "      \n",
    "      flow_features = extract_features(flow,df_flow,counter_dw)\n",
    "      flow_features['gt'] = 'www.' + f.split('.')[0] + '.com';\n",
    "      counter_dw =counter_dw + 1;   \n",
    "      \n",
    "    if((flow_features['direction'] =='uplink')):\n",
    "      \n",
    "        dataset_up = dataset_up.append(flow_features,ignore_index=True);  \n",
    "      \n",
    "    else:\n",
    "      \n",
    "        dataset_dw = dataset_dw.append(flow_features,ignore_index=True);  \n",
    "\n",
    "\n",
    "\n",
    "dataset_up.to_csv('datasetup.csv', index=False, line_terminator='\\n')\n",
    "\n",
    "dataset_dw.to_csv('datasetdw.csv', index=False, line_terminator='\\n')\n",
    "\n",
    "#the value couter helped me creating the biflow dataset.\n",
    "#thanks to it a merge has been possible between the two dataset,\n",
    "#one for up and the other for downlink, based on the ground truth information\n",
    "#and on counter variable\n",
    "\n",
    "dataset =pd.merge(dataset_up,dataset_dw,on=['gt','counter'],how='outer')\n",
    "\n",
    "dataset.drop(columns='counter')\n",
    "\n",
    "dataset.to_csv('traffic_classification_dataset.csv', index=False, line_terminator='\\n')\n"
   ]
  },
  {
   "cell_type": "markdown",
   "metadata": {
    "id": "Opwir6_thycA"
   },
   "source": [
    "## Confusion Matrix plot and KNN\n",
    "Regarding the K-NN classifier, I have used the same approach seen during lectures applied to the biflow *traffic_classification* dataset.\n",
    "It has been quite interesting playing with parameters of the K-NN classifier, in particular with :\n",
    "\n",
    "\n",
    "\n",
    "```\n",
    "skf = StratifiedKFold(n_splits=X,shuffle=True)\n",
    "```\n",
    "\n",
    "I have tried to change not only the n_splits value but also the dimension of the training dataset(f.i. after the first trials instead of considering 20 websites I have considered just 10).\n",
    "With a greater amount of labels, I have noticed that **n_splits** can not assume much higher values, in fact the classifier will not be able to classify all possible labels.\n",
    "\n",
    "The accuracy values for each of the KNN classifier from K = [1:10] are stored in the list accuracy and plotted in the followings."
   ]
  },
  {
   "cell_type": "code",
   "execution_count": null,
   "metadata": {
    "id": "PupkhSumT6-c"
   },
   "outputs": [],
   "source": [
    "import pandas as pd\n",
    "import matplotlib.pyplot as plt\n",
    "from sklearn.utils import resample\n",
    "import warnings\n",
    "import statistics\n",
    "\n",
    "from sklearn.model_selection import KFold, train_test_split, StratifiedKFold\n",
    "from sklearn.preprocessing import LabelEncoder, StandardScaler\n",
    "from sklearn.metrics import  classification_report\n",
    "from sklearn.metrics import confusion_matrix, ConfusionMatrixDisplay\n",
    "from sklearn.neighbors import KNeighborsClassifier\n",
    "from sklearn.ensemble import RandomForestClassifier\n",
    "from sklearn.naive_bayes import GaussianNB\n",
    "from sklearn import metrics\n",
    "\n",
    "warnings.filterwarnings('ignore')\n",
    "\n",
    "#constructing features\n",
    "le = LabelEncoder();\n",
    "scaler = StandardScaler();\n",
    "\n",
    "\n",
    "#using only traffic features\n",
    "#here are dropped all the columns Nan and all the columns with values not related\n",
    "#to a traffic classification\n",
    "X = dataset.drop(['direction_x','direction_y','host.ip_x','host.ip_x','src.ip_x','src.ip_y','host.ip_y','counter'],axis=1).dropna();\n",
    "\n",
    "Y = le.fit_transform(X['gt']);\n",
    "X = X.drop('gt',axis=1);\n",
    "\n",
    "X_norm = scaler.fit_transform(X);\n",
    "\n",
    "#now let's use a stratified k-fold cross validation approach with 3 splits\n",
    "tot_cm = np.zeros([len(gt),len(gt)])\n",
    "accuracY_list= []\n",
    "skf = StratifiedKFold(n_splits=3,shuffle=True)\n",
    "\n",
    "\n",
    "for n_neighbors in range(1,11):\n",
    "  \n",
    "  for train, test in skf.split(X_norm, Y):\n",
    "\n",
    "      knn = KNeighborsClassifier(n_neighbors)\n",
    "     \n",
    "      knn.fit(X_norm[train], Y[train])\n",
    "     \n",
    "      knn_predict = knn.predict(X_norm[test])\n",
    "      \n",
    "      knn_report = classification_report(Y[test],knn_predict,target_names=le.inverse_transform(np.arange(len(gt))),digits=3,output_dict=True,zero_division='warn')\n",
    "      fold_accuracy = knn_report['accuracy']\n",
    "      #print(fold_accuracy)\n",
    "      cm = confusion_matrix(Y[test],knn.predict(X_norm[test]))\n",
    "      tot_cm = tot_cm + cm;\n",
    "      \n",
    "      accuracy=metrics.accuracy_score(Y[test],knn_predict)     \n",
    "      accuracy = accuracy.mean()\n",
    "      accuracY_list.append(accuracy)\n",
    "      \n",
    "    "
   ]
  },
  {
   "cell_type": "markdown",
   "metadata": {
    "id": "wDjhMCxVvyZT"
   },
   "source": [
    "thanks to the accuracy_mean list, the best accuracy is found that is related to the use of KNN classifier with K=1.\n",
    "this value is used to plot the best case Confusion Matrix.\n"
   ]
  },
  {
   "cell_type": "code",
   "execution_count": 296,
   "metadata": {
    "colab": {
     "base_uri": "https://localhost:8080/",
     "height": 1000
    },
    "id": "jITgdxcEpffz",
    "outputId": "314c938d-19bd-4dcc-d02f-41657f91feb5"
   },
   "outputs": [
    {
     "data": {
      "image/png": "[encoded data removed]",
      "text/plain": [
       "<Figure size 1080x1080 with 2 Axes>"
      ]
     },
     "metadata": {},
     "output_type": "display_data"
    }
   ],
   "source": [
    "#Plotting BEST CASE cm\n",
    "\n",
    "for train, test in skf.split(X_norm, Y):\n",
    "\n",
    "      knn = KNeighborsClassifier(1)\n",
    "     \n",
    "      knn.fit(X_norm[train], Y[train])\n",
    "     \n",
    "      knn_predict1 = knn.predict(X_norm[test])\n",
    "      \n",
    "      knn_report = classification_report(Y[test],knn_predict1,target_names=le.inverse_transform(np.arange(len(gt))),digits=3,output_dict=True,zero_division='warn')\n",
    "      fold_accuracy = knn_report['accuracy']\n",
    "     \n",
    "      cm = confusion_matrix(Y[test],knn.predict(X_norm[test]))\n",
    "      tot_cm = tot_cm + cm;\n",
    "      \n",
    "      accuracy=metrics.accuracy_score(Y[test],knn_predict1)     \n",
    "     \n",
    "      accuracy = accuracy.mean()\n",
    "     \n",
    "      accuracY_list.append(accuracy)\n",
    "\n",
    "\n",
    "fig, ax = plt.subplots(figsize=(15, 15));\n",
    "ax.title.set_text('Best Case Confusion Matrix')\n",
    "ConfusionMatrixDisplay.from_predictions(knn_predict1, Y[test], ax=ax, display_labels=le.inverse_transform(np.arange(len(gt))));\n",
    "ax.tick_params(axis='x', labelrotation=90)"
   ]
  },
  {
   "cell_type": "markdown",
   "metadata": {
    "id": "Cgmpo9jzAuFn"
   },
   "source": [
    "#accuracy vs K plot\n"
   ]
  },
  {
   "cell_type": "code",
   "execution_count": 284,
   "metadata": {
    "id": "MZkWk-IgUNqY"
   },
   "outputs": [],
   "source": [
    "import matplotlib.pyplot as plt\n",
    "from itertools import zip_longest\n",
    "test_list = accuracY_list\n",
    "\n",
    "def group_elements(n, iterable, padvalue='x'):\n",
    "    return zip_longest(*[iter(iterable)]*n, fillvalue=padvalue)\n",
    "accuracy_mean = []\n",
    "\n",
    "for output in group_elements(3,test_list):\n",
    "    accuracy_mean.append(statistics.mean( list(output) ))"
   ]
  },
  {
   "cell_type": "code",
   "execution_count": 394,
   "metadata": {
    "colab": {
     "base_uri": "https://localhost:8080/",
     "height": 449
    },
    "id": "mno65HQZYJY9",
    "outputId": "21945954-6e69-4cb1-ddee-2b290f299736"
   },
   "outputs": [
    {
     "data": {
      "image/png": "[encoded data removed]",
      "text/plain": [
       "<Figure size 720x432 with 1 Axes>"
      ]
     },
     "metadata": {},
     "output_type": "display_data"
    }
   ],
   "source": [
    "fig, ax = plt.subplots()\n",
    "ax.plot(x1, accuracy_mean,linestyle='dashed',marker='o', markerfacecolor='m',markersize=8)\n",
    "ax.set_xticks(x1);\n",
    "ax.set_ylim(0,1);\n",
    "ax.set_title('Accuracy vs K value ',fontsize = 30,color = 'r');\n",
    "ax.set_xlabel('K values');\n",
    "ax.set_ylabel('accuracy');\n"
   ]
  },
  {
   "cell_type": "markdown",
   "metadata": {
    "id": "nwn9eiNtcks-"
   },
   "source": [
    "The explanation that I tried to give to this low accuracy vs K value is that Ii I would have needed more packets in order to improve the classification of the all classes(maybe considering to kill tcpdump after more time) and given that the number of the sites was not a small number.\n",
    "An incredible result was obtained instead with the new testset that performed better than the previous one."
   ]
  },
  {
   "cell_type": "markdown",
   "metadata": {
    "id": "Nt_LToV_Awqd"
   },
   "source": [
    "#accuracy with new test set (Dataset Generation)\n",
    "\n",
    "## Test set generation\n"
   ]
  },
  {
   "cell_type": "code",
   "execution_count": 322,
   "metadata": {
    "id": "hH34lsL3EMoC"
   },
   "outputs": [],
   "source": [
    "#the old training set is stored here\n",
    "old_train_set = train\n"
   ]
  },
  {
   "cell_type": "code",
   "execution_count": null,
   "metadata": {
    "id": "hs8iOMkVVXfA"
   },
   "outputs": [],
   "source": [
    "!tcpdump -i eth0 \"(tcp[((tcp[12] & 0xf0) >>2)] = 0x16) or (tcp[((tcp[12] & 0xf0) >>2)+9] = 0x03) or (tcp[((tcp[12] & 0xf0) >>2)+10] = 0x03) or (tcp[((tcp[12] & 0xf0) >>2)] = 0x17) or (tcp[((tcp[12] & 0xf0) >>2)+1] = 0x03) or (tcp[((tcp[12] & 0xf0) >>2)] = 0x15) or (tcp[((tcp[12] & 0xf0) >>2)] = 0x21)\"  -w ndtv_capture.pcapng  & (sleep 10; curl 'https://www.ndtv.com'> /dev/null) & (sleep 10; curl -s 'https://www.ndtv.com'> /dev/null) & (sleep 10;curl -s 'https://www.ndtv.com'> /dev/null)  & (sleep 50;killall tcpdump);"
   ]
  },
  {
   "cell_type": "code",
   "execution_count": null,
   "metadata": {
    "id": "nVnr7Zu-VXb3"
   },
   "outputs": [],
   "source": [
    "!tcpdump -i eth0 \"(tcp[((tcp[12] & 0xf0) >>2)] = 0x16) or (tcp[((tcp[12] & 0xf0) >>2)+9] = 0x03) or (tcp[((tcp[12] & 0xf0) >>2)+10] = 0x03) or (tcp[((tcp[12] & 0xf0) >>2)] = 0x17) or (tcp[((tcp[12] & 0xf0) >>2)+1] = 0x03) or (tcp[((tcp[12] & 0xf0) >>2)] = 0x15) or (tcp[((tcp[12] & 0xf0) >>2)] = 0x21)\"  -w abc.pcapng  & (sleep 10; curl 'https://www.abc.net.au'> /dev/null) & (sleep 10; curl 'https://www.abc.net.au'> /dev/null) & (sleep 10; curl 'https://www.abc.net.au'> /dev/null) & (sleep 50;killall tcpdump)"
   ]
  },
  {
   "cell_type": "code",
   "execution_count": null,
   "metadata": {
    "id": "Am9cWFvgVXVP"
   },
   "outputs": [],
   "source": [
    "!tcpdump -i eth0 \"(tcp[((tcp[12] & 0xf0) >>2)] = 0x16) or (tcp[((tcp[12] & 0xf0) >>2)+9] = 0x03) or (tcp[((tcp[12] & 0xf0) >>2)+10] = 0x03) or (tcp[((tcp[12] & 0xf0) >>2)] = 0x17) or (tcp[((tcp[12] & 0xf0) >>2)+1] = 0x03) or (tcp[((tcp[12] & 0xf0) >>2)] = 0x15) or (tcp[((tcp[12] & 0xf0) >>2)] = 0x21)\"  -w news_google.pcapng & (sleep 10;curl 'https://www.news.google.com' > /dev/null) & (sleep 10;curl 'https://www.news.google.com' > /dev/null) & (sleep 10;curl 'https://www.news.google.com' > /dev/null)  &  (sleep 50;killall tcpdump)"
   ]
  },
  {
   "cell_type": "code",
   "execution_count": null,
   "metadata": {
    "id": "9qzeCBP8_nSM"
   },
   "outputs": [],
   "source": [
    "!tcpdump -i eth0 \"(tcp[((tcp[12] & 0xf0) >>2)] = 0x16) or (tcp[((tcp[12] & 0xf0) >>2)+9] = 0x03) or (tcp[((tcp[12] & 0xf0) >>2)+10] = 0x03) or (tcp[((tcp[12] & 0xf0) >>2)] = 0x17) or (tcp[((tcp[12] & 0xf0) >>2)+1] = 0x03) or (tcp[((tcp[12] & 0xf0) >>2)] = 0x15) or (tcp[((tcp[12] & 0xf0) >>2)] = 0x21)\"  -w dayli_mail.pcapng & (sleep 10;curl 'https://www.dailymail.co.uk' > /dev/null) & (sleep 10;curl 'https://www.dailymail.co.uk' > /dev/null) & (sleep 10;curl 'https://www.dailymail.co.uk' > /dev/null)  &  (sleep 50;killall tcpdump)"
   ]
  },
  {
   "cell_type": "code",
   "execution_count": null,
   "metadata": {
    "id": "D-ulHHz0_nLd"
   },
   "outputs": [],
   "source": [
    "!tcpdump -i eth0 \"(tcp[((tcp[12] & 0xf0) >>2)] = 0x16) or (tcp[((tcp[12] & 0xf0) >>2)+9] = 0x03) or (tcp[((tcp[12] & 0xf0) >>2)+10] = 0x03) or (tcp[((tcp[12] & 0xf0) >>2)] = 0x17) or (tcp[((tcp[12] & 0xf0) >>2)+1] = 0x03) or (tcp[((tcp[12] & 0xf0) >>2)] = 0x15) or (tcp[((tcp[12] & 0xf0) >>2)] = 0x21)\"  -w indiatimes.pcapng & (sleep 10;curl 'https://www.indiatimes.com' > /dev/null) & (sleep 10;curl 'https://www.indiatimes.com' > /dev/null) & (sleep 10;curl 'https://www.indiatimes.com' > /dev/null)  &  (sleep 50;killall tcpdump)"
   ]
  },
  {
   "cell_type": "code",
   "execution_count": null,
   "metadata": {
    "id": "oJYDFxSY_nGH"
   },
   "outputs": [],
   "source": [
    "!tcpdump -i eth0 \"(tcp[((tcp[12] & 0xf0) >>2)] = 0x16) or (tcp[((tcp[12] & 0xf0) >>2)+9] = 0x03) or (tcp[((tcp[12] & 0xf0) >>2)+10] = 0x03) or (tcp[((tcp[12] & 0xf0) >>2)] = 0x17) or (tcp[((tcp[12] & 0xf0) >>2)+1] = 0x03) or (tcp[((tcp[12] & 0xf0) >>2)] = 0x15) or (tcp[((tcp[12] & 0xf0) >>2)] = 0x21)\"  -w timesofindia.pcapng & (sleep 10;curl 'https://www.timesofindia.com' > /dev/null) & (sleep 10;curl 'https://www.timesofindia.com' > /dev/null) & (sleep 10;curl 'https://www.timesofindia.com' > /dev/null)  &  (sleep 50;killall tcpdump)"
   ]
  },
  {
   "cell_type": "code",
   "execution_count": null,
   "metadata": {
    "id": "GDj_F17-_nAy"
   },
   "outputs": [],
   "source": [
    "!tcpdump -i eth0 \"(tcp[((tcp[12] & 0xf0) >>2)] = 0x16) or (tcp[((tcp[12] & 0xf0) >>2)+9] = 0x03) or (tcp[((tcp[12] & 0xf0) >>2)+10] = 0x03) or (tcp[((tcp[12] & 0xf0) >>2)] = 0x17) or (tcp[((tcp[12] & 0xf0) >>2)+1] = 0x03) or (tcp[((tcp[12] & 0xf0) >>2)] = 0x15) or (tcp[((tcp[12] & 0xf0) >>2)] = 0x21)\"  -w news_yahoo.pcapng & (sleep 10;curl 'https://www.news.yahoo.com' > /dev/null) & (sleep 10;curl 'https://www.news.yahoo.com' > /dev/null) & (sleep 10;curl 'https://www.news.yahoo.com' > /dev/null)  &  (sleep 50;killall tcpdump)"
   ]
  },
  {
   "cell_type": "code",
   "execution_count": null,
   "metadata": {
    "id": "xgLRJDNJ_m7F"
   },
   "outputs": [],
   "source": [
    "!tcpdump -i eth0 \"(tcp[((tcp[12] & 0xf0) >>2)] = 0x16) or (tcp[((tcp[12] & 0xf0) >>2)+9] = 0x03) or (tcp[((tcp[12] & 0xf0) >>2)+10] = 0x03) or (tcp[((tcp[12] & 0xf0) >>2)] = 0x17) or (tcp[((tcp[12] & 0xf0) >>2)+1] = 0x03) or (tcp[((tcp[12] & 0xf0) >>2)] = 0x15) or (tcp[((tcp[12] & 0xf0) >>2)] = 0x21)\"  -w express.pcapng & (sleep 10;curl 'https://www.news.google.com' > /dev/null) & (sleep 10;curl 'https://www.express.co.uk' > /dev/null) & (sleep 10;curl 'https://www.express.co.uk' > /dev/null)  &  (sleep 50;killall tcpdump)"
   ]
  },
  {
   "cell_type": "code",
   "execution_count": null,
   "metadata": {
    "id": "9bVPz6Kf_m0V"
   },
   "outputs": [],
   "source": [
    "!tcpdump -i eth0 \"(tcp[((tcp[12] & 0xf0) >>2)] = 0x16) or (tcp[((tcp[12] & 0xf0) >>2)+9] = 0x03) or (tcp[((tcp[12] & 0xf0) >>2)+10] = 0x03) or (tcp[((tcp[12] & 0xf0) >>2)] = 0x17) or (tcp[((tcp[12] & 0xf0) >>2)+1] = 0x03) or (tcp[((tcp[12] & 0xf0) >>2)] = 0x15) or (tcp[((tcp[12] & 0xf0) >>2)] = 0x21)\"  -w msn.pcapng & (sleep 10;curl 'https://www.msn.com' > /dev/null) & (sleep 10;curl 'https://www.msn.com' > /dev/null) & (sleep 10;curl 'https://www.msn.com' > /dev/null)  &  (sleep 50;killall tcpdump)"
   ]
  },
  {
   "cell_type": "code",
   "execution_count": null,
   "metadata": {
    "id": "FcVL6l8f_mvQ"
   },
   "outputs": [],
   "source": [
    "!tcpdump -i eth0 \"(tcp[((tcp[12] & 0xf0) >>2)] = 0x16) or (tcp[((tcp[12] & 0xf0) >>2)+9] = 0x03) or (tcp[((tcp[12] & 0xf0) >>2)+10] = 0x03) or (tcp[((tcp[12] & 0xf0) >>2)] = 0x17) or (tcp[((tcp[12] & 0xf0) >>2)+1] = 0x03) or (tcp[((tcp[12] & 0xf0) >>2)] = 0x15) or (tcp[((tcp[12] & 0xf0) >>2)] = 0x21)\"  -w rt.pcapng & (sleep 10;curl 'https://www.rt.com' > /dev/null) & (sleep 10;curl 'https://www.rt.com' > /dev/null) & (sleep 10;curl 'https://www.rt.com' > /dev/null)  &  (sleep 50;killall tcpdump)"
   ]
  },
  {
   "cell_type": "code",
   "execution_count": null,
   "metadata": {
    "id": "f7Xojdkp_mrN"
   },
   "outputs": [],
   "source": [
    "!tcpdump -i eth0 \"(tcp[((tcp[12] & 0xf0) >>2)] = 0x16) or (tcp[((tcp[12] & 0xf0) >>2)+9] = 0x03) or (tcp[((tcp[12] & 0xf0) >>2)+10] = 0x03) or (tcp[((tcp[12] & 0xf0) >>2)] = 0x17) or (tcp[((tcp[12] & 0xf0) >>2)+1] = 0x03) or (tcp[((tcp[12] & 0xf0) >>2)] = 0x15) or (tcp[((tcp[12] & 0xf0) >>2)] = 0x21)\"  -w foxnews.pcapng & (sleep 10;curl 'https://www.foxnews.com' > /dev/null) & (sleep 10;curl 'https://www.foxnews.com' > /dev/null) & (sleep 10;curl 'https://www.foxnews.com' > /dev/null)  &  (sleep 50;killall tcpdump)"
   ]
  },
  {
   "cell_type": "code",
   "execution_count": null,
   "metadata": {
    "id": "UKRfhw68_mnm"
   },
   "outputs": [],
   "source": [
    "!tcpdump -i eth0 \"(tcp[((tcp[12] & 0xf0) >>2)] = 0x16) or (tcp[((tcp[12] & 0xf0) >>2)+9] = 0x03) or (tcp[((tcp[12] & 0xf0) >>2)+10] = 0x03) or (tcp[((tcp[12] & 0xf0) >>2)] = 0x17) or (tcp[((tcp[12] & 0xf0) >>2)+1] = 0x03) or (tcp[((tcp[12] & 0xf0) >>2)] = 0x15) or (tcp[((tcp[12] & 0xf0) >>2)] = 0x21)\"  -w finance_yahoo.pcapng & (sleep 10;curl 'https://www.finance.yahoo.com' > /dev/null) & (sleep 10;curl 'https://www.finance.yahoo.com' > /dev/null) & (sleep 10;curl 'https://www.finance.yahoo.com' > /dev/null)  &  (sleep 50;killall tcpdump)"
   ]
  },
  {
   "cell_type": "code",
   "execution_count": null,
   "metadata": {
    "id": "zRXNyaPs_mjO"
   },
   "outputs": [],
   "source": [
    "!tcpdump -i eth0 \"(tcp[((tcp[12] & 0xf0) >>2)] = 0x16) or (tcp[((tcp[12] & 0xf0) >>2)+9] = 0x03) or (tcp[((tcp[12] & 0xf0) >>2)+10] = 0x03) or (tcp[((tcp[12] & 0xf0) >>2)] = 0x17) or (tcp[((tcp[12] & 0xf0) >>2)+1] = 0x03) or (tcp[((tcp[12] & 0xf0) >>2)] = 0x15) or (tcp[((tcp[12] & 0xf0) >>2)] = 0x21)\"  -w nypost.pcapng & (sleep 10;curl 'https://www.nypost.com' > /dev/null) & (sleep 10;curl 'https://www.nypost.com' > /dev/null) & (sleep 10;curl 'https://www.nypost.com' > /dev/null)  &  (sleep 50;killall tcpdump)"
   ]
  },
  {
   "cell_type": "code",
   "execution_count": null,
   "metadata": {
    "id": "8rTJHzQa_mgc"
   },
   "outputs": [],
   "source": [
    "!tcpdump -i eth0 \"(tcp[((tcp[12] & 0xf0) >>2)] = 0x16) or (tcp[((tcp[12] & 0xf0) >>2)+9] = 0x03) or (tcp[((tcp[12] & 0xf0) >>2)+10] = 0x03) or (tcp[((tcp[12] & 0xf0) >>2)] = 0x17) or (tcp[((tcp[12] & 0xf0) >>2)+1] = 0x03) or (tcp[((tcp[12] & 0xf0) >>2)] = 0x15) or (tcp[((tcp[12] & 0xf0) >>2)] = 0x21)\"  -w theguardian.pcapng & (sleep 10;curl 'https://www.theguardian.com' > /dev/null) & (sleep 10;curl 'https://www.theguardian.com' > /dev/null) & (sleep 10;curl 'https://www.theguardian.com' > /dev/null)  &  (sleep 50;killall tcpdump)"
   ]
  },
  {
   "cell_type": "code",
   "execution_count": null,
   "metadata": {
    "id": "g4GougRE_md7"
   },
   "outputs": [],
   "source": [
    "!tcpdump -i eth0 \"(tcp[((tcp[12] & 0xf0) >>2)] = 0x16) or (tcp[((tcp[12] & 0xf0) >>2)+9] = 0x03) or (tcp[((tcp[12] & 0xf0) >>2)+10] = 0x03) or (tcp[((tcp[12] & 0xf0) >>2)] = 0x17) or (tcp[((tcp[12] & 0xf0) >>2)+1] = 0x03) or (tcp[((tcp[12] & 0xf0) >>2)] = 0x15) or (tcp[((tcp[12] & 0xf0) >>2)] = 0x21)\"  -w bbc.pcapng & (sleep 10;curl 'https://www.bbc.co.uk' > /dev/null) & (sleep 10;curl 'https://www.bbc.co.uk' > /dev/null) & (sleep 10;curl 'https://www.bbc.co.uk' > /dev/null)  &  (sleep 50;killall tcpdump)"
   ]
  },
  {
   "cell_type": "code",
   "execution_count": 338,
   "metadata": {
    "colab": {
     "base_uri": "https://localhost:8080/"
    },
    "id": "4GDs50Mv_ma_",
    "outputId": "90026442-7b4e-40cd-b50c-089ceadddb39"
   },
   "outputs": [
    {
     "name": "stdout",
     "output_type": "stream",
     "text": [
      "tcpdump: listening on eth0, link-type EN10MB (Ethernet), capture size 262144 bytes\n",
      "  % Total    % Received % Xferd  Average Speed   Time    Time     Time  Current\n",
      "                                 Dload  Upload   Total   Spent    Left  Speed\n",
      "  0     0    0     0    0     0      0      0 --:--:-- --:--:-- --:--:--     0  % Total    % Received % Xferd  Average Speed   Time    Time     Time  Current\n",
      "                                 Dload  Upload   Total   Spent    Left  Speed\n",
      "  0     0    0     0    0     0      0      0 --:--:-- --:--:-- --:--:--     0  % Total    % Received % Xferd  Average Speed   Time    Time     Time  Current\n",
      "                                 Dload  Upload   Total   Spent    Left  Speed\n",
      "100 1988k  100 1988k    0     0  12.5M      0 --:--:-- --:--:-- --:--:-- 12.5M\n",
      "100 1985k  100 1985k    0     0  10.5M      0 --:--:-- --:--:-- --:--:-- 10.5M\n",
      "100 1985k  100 1985k    0     0  9828k      0 --:--:-- --:--:-- --:--:-- 9828k\n",
      "52 packets captured\n",
      "52 packets received by filter\n",
      "0 packets dropped by kernel\n"
     ]
    }
   ],
   "source": [
    "!tcpdump -i eth0 \"(tcp[((tcp[12] & 0xf0) >>2)] = 0x16) or (tcp[((tcp[12] & 0xf0) >>2)+9] = 0x03) or (tcp[((tcp[12] & 0xf0) >>2)+10] = 0x03) or (tcp[((tcp[12] & 0xf0) >>2)] = 0x17) or (tcp[((tcp[12] & 0xf0) >>2)+1] = 0x03) or (tcp[((tcp[12] & 0xf0) >>2)] = 0x15) or (tcp[((tcp[12] & 0xf0) >>2)] = 0x21)\"  -w nytimes.pcapng & (sleep 10;curl 'https://www.nytimes.com' > /dev/null) & (sleep 10;curl 'https://www.nytimes.com' > /dev/null) & (sleep 10;curl 'https://www.nytimes.com' > /dev/null)  &  (sleep 50;killall tcpdump)"
   ]
  },
  {
   "cell_type": "code",
   "execution_count": null,
   "metadata": {
    "id": "bhyT6rdJ_mXJ"
   },
   "outputs": [],
   "source": [
    "!tcpdump -i eth0 \"(tcp[((tcp[12] & 0xf0) >>2)] = 0x16) or (tcp[((tcp[12] & 0xf0) >>2)+9] = 0x03) or (tcp[((tcp[12] & 0xf0) >>2)+10] = 0x03) or (tcp[((tcp[12] & 0xf0) >>2)] = 0x17) or (tcp[((tcp[12] & 0xf0) >>2)+1] = 0x03) or (tcp[((tcp[12] & 0xf0) >>2)] = 0x15) or (tcp[((tcp[12] & 0xf0) >>2)] = 0x21)\"  -w cnn.pcapng & (sleep 10;curl 'https://www.cnn.com' > /dev/null) & (sleep 10;curl 'https://www.cnn.com' > /dev/null) & (sleep 10;curl 'https://www.cnn.com' > /dev/null)  &  (sleep 50;killall tcpdump)"
   ]
  },
  {
   "cell_type": "code",
   "execution_count": null,
   "metadata": {
    "id": "liW8_PmSGjxe"
   },
   "outputs": [],
   "source": [
    "!tcpdump -i eth0 \"(tcp[((tcp[12] & 0xf0) >>2)] = 0x16) or (tcp[((tcp[12] & 0xf0) >>2)+9] = 0x03) or (tcp[((tcp[12] & 0xf0) >>2)+10] = 0x03) or (tcp[((tcp[12] & 0xf0) >>2)] = 0x17) or (tcp[((tcp[12] & 0xf0) >>2)+1] = 0x03) or (tcp[((tcp[12] & 0xf0) >>2)] = 0x15) or (tcp[((tcp[12] & 0xf0) >>2)] = 0x21)\"  -w news_18.pcapng & (sleep 10;curl 'https://www.news18.com' > /dev/null) & (sleep 10;curl 'https://www.news18.com' > /dev/null) & (sleep 10;curl 'https://www.news18.com' > /dev/null)  &  (sleep 50;killall tcpdump)"
   ]
  },
  {
   "cell_type": "markdown",
   "metadata": {
    "id": "nmWPCqYcF5qe"
   },
   "source": [
    "##tshark commands"
   ]
  },
  {
   "cell_type": "code",
   "execution_count": 323,
   "metadata": {
    "colab": {
     "base_uri": "https://localhost:8080/"
    },
    "id": "Qyrs5AAJDzzs",
    "outputId": "233791a0-16bc-44f2-8b44-a7c220ea7222"
   },
   "outputs": [
    {
     "name": "stdout",
     "output_type": "stream",
     "text": [
      "Running as user \"root\" and group \"root\". This could be dangerous.\n"
     ]
    }
   ],
   "source": [
    "!tshark -r \"abc.pcapng\" -R \"tcp\" -2 -T fields -e frame.number -e frame.time -e frame.len -e frame.cap_len -e sll.pkttype -e sll.hatype -e sll.halen -e sll.src.eth -e sll.unused -e sll.etype -e ip.hdr_len -e ip.dsfield.ecn -e ip.len -e ip.id -e ip.frag_offset -e ip.ttl -e ip.proto -e ip.checksum -e ip.src -e ip.dst -e tcp.len -e tcp.srcport -e tcp.dstport -e tcp.seq -e tcp.ack -e tcp.flags.fin -e tcp.flags.ack -e tcp.window_size_value -e tcp.checksum -e tcp.urgent_pointer -e tcp.option_kind -e tcp.options.timestamp.tsval -e tcp.options.timestamp.tsecr -e udp.srcport -e udp.dstport -e udp.length -e udp.checksum -e gquic.puflags.rsv -e gquic.packet_number  -E header=y -E separator=, -E quote=d -E occurrence=f > abc.csv"
   ]
  },
  {
   "cell_type": "code",
   "execution_count": 325,
   "metadata": {
    "colab": {
     "base_uri": "https://localhost:8080/"
    },
    "id": "XCXVFRxHDzXD",
    "outputId": "a81d5801-8864-4632-9a59-f37def2e4b46"
   },
   "outputs": [
    {
     "name": "stdout",
     "output_type": "stream",
     "text": [
      "Running as user \"root\" and group \"root\". This could be dangerous.\n"
     ]
    }
   ],
   "source": [
    "!tshark -r \"daily_mail.pcapng\" -R \"tcp\" -2 -T fields -e frame.number -e frame.time -e frame.len -e frame.cap_len -e sll.pkttype -e sll.hatype -e sll.halen -e sll.src.eth -e sll.unused -e sll.etype -e ip.hdr_len -e ip.dsfield.ecn -e ip.len -e ip.id -e ip.frag_offset -e ip.ttl -e ip.proto -e ip.checksum -e ip.src -e ip.dst -e tcp.len -e tcp.srcport -e tcp.dstport -e tcp.seq -e tcp.ack -e tcp.flags.fin -e tcp.window_size_value -e tcp.checksum -e tcp.urgent_pointer -e tcp.option_kind -e tcp.options.timestamp.tsval -e tcp.options.timestamp.tsecr -e udp.srcport -e udp.dstport -e udp.length -e udp.checksum -e gquic.puflags.rsv -e gquic.packet_number  -E header=y -E separator=, -E quote=d -E occurrence=f > dayli_mail.csv"
   ]
  },
  {
   "cell_type": "code",
   "execution_count": 326,
   "metadata": {
    "colab": {
     "base_uri": "https://localhost:8080/"
    },
    "id": "h151EhgJDzP0",
    "outputId": "c166b4dd-bba4-409b-904e-4d68cafd23da"
   },
   "outputs": [
    {
     "name": "stdout",
     "output_type": "stream",
     "text": [
      "Running as user \"root\" and group \"root\". This could be dangerous.\n"
     ]
    }
   ],
   "source": [
    "!tshark -r \"express.pcapng\" -R \"tcp\" -2 -T fields -e frame.number -e frame.time -e frame.len -e frame.cap_len -e sll.pkttype -e sll.hatype -e sll.halen -e sll.src.eth -e sll.unused -e sll.etype -e ip.hdr_len -e ip.dsfield.ecn -e ip.len -e ip.id -e ip.frag_offset -e ip.ttl -e ip.proto -e ip.checksum -e ip.src -e ip.dst -e tcp.len -e tcp.srcport -e tcp.dstport -e tcp.seq -e tcp.ack -e tcp.flags.fin -e tcp.window_size_value -e tcp.checksum -e tcp.urgent_pointer -e tcp.option_kind -e tcp.options.timestamp.tsval -e tcp.options.timestamp.tsecr -e udp.srcport -e udp.dstport -e udp.length -e udp.checksum -e gquic.puflags.rsv -e gquic.packet_number  -E header=y -E separator=, -E quote=d -E occurrence=f > express.csv"
   ]
  },
  {
   "cell_type": "code",
   "execution_count": 327,
   "metadata": {
    "colab": {
     "base_uri": "https://localhost:8080/"
    },
    "id": "G-xDtVC3DzH8",
    "outputId": "05f9e72c-9835-42e6-c521-fa8b5c551286"
   },
   "outputs": [
    {
     "name": "stdout",
     "output_type": "stream",
     "text": [
      "Running as user \"root\" and group \"root\". This could be dangerous.\n"
     ]
    }
   ],
   "source": [
    "!tshark -r \"indiatimes.pcapng\" -R \"tcp\" -2 -T fields -e frame.number -e frame.time -e frame.len -e frame.cap_len -e sll.pkttype -e sll.hatype -e sll.halen -e sll.src.eth -e sll.unused -e sll.etype -e ip.hdr_len -e ip.dsfield.ecn -e ip.len -e ip.id -e ip.frag_offset -e ip.ttl -e ip.proto -e ip.checksum -e ip.src -e ip.dst -e tcp.len -e tcp.srcport -e tcp.dstport -e tcp.seq -e tcp.ack -e tcp.flags.fin -e tcp.window_size_value -e tcp.checksum -e tcp.urgent_pointer -e tcp.option_kind -e tcp.options.timestamp.tsval -e tcp.options.timestamp.tsecr -e udp.srcport -e udp.dstport -e udp.length -e udp.checksum -e gquic.puflags.rsv -e gquic.packet_number  -E header=y -E separator=, -E quote=d -E occurrence=f > indiatimes.csv"
   ]
  },
  {
   "cell_type": "code",
   "execution_count": 330,
   "metadata": {
    "colab": {
     "base_uri": "https://localhost:8080/"
    },
    "id": "hqZUnRWkDy-c",
    "outputId": "de922ce6-c3a2-4beb-b535-73e2a4a90b1d"
   },
   "outputs": [
    {
     "name": "stdout",
     "output_type": "stream",
     "text": [
      "Running as user \"root\" and group \"root\". This could be dangerous.\n"
     ]
    }
   ],
   "source": [
    "!tshark -r \"news_18.pcapng\" -R \"tcp\" -2 -T fields -e frame.number -e frame.time -e frame.len -e frame.cap_len -e sll.pkttype -e sll.hatype -e sll.halen -e sll.src.eth -e sll.unused -e sll.etype -e ip.hdr_len -e ip.dsfield.ecn -e ip.len -e ip.id -e ip.frag_offset -e ip.ttl -e ip.proto -e ip.checksum -e ip.src -e ip.dst -e tcp.len -e tcp.srcport -e tcp.dstport -e tcp.seq -e tcp.ack -e tcp.flags.fin -e tcp.window_size_value -e tcp.checksum -e tcp.urgent_pointer -e tcp.option_kind -e tcp.options.timestamp.tsval -e tcp.options.timestamp.tsecr -e udp.srcport -e udp.dstport -e udp.length -e udp.checksum -e gquic.puflags.rsv -e gquic.packet_number  -E header=y -E separator=, -E quote=d -E occurrence=f > news18.csv"
   ]
  },
  {
   "cell_type": "code",
   "execution_count": 331,
   "metadata": {
    "colab": {
     "base_uri": "https://localhost:8080/"
    },
    "id": "tV9vwnOTDy3P",
    "outputId": "0d8fb4f4-b99c-45b5-ced7-7f08d2d264b1"
   },
   "outputs": [
    {
     "name": "stdout",
     "output_type": "stream",
     "text": [
      "Running as user \"root\" and group \"root\". This could be dangerous.\n"
     ]
    }
   ],
   "source": [
    "!tshark -r \"news_google.pcapng\" -R \"tcp\" -2 -T fields -e frame.number -e frame.time -e frame.len -e frame.cap_len -e sll.pkttype -e sll.hatype -e sll.halen -e sll.src.eth -e sll.unused -e sll.etype -e ip.hdr_len -e ip.dsfield.ecn -e ip.len -e ip.id -e ip.frag_offset -e ip.ttl -e ip.proto -e ip.checksum -e ip.src -e ip.dst -e tcp.len -e tcp.srcport -e tcp.dstport -e tcp.seq -e tcp.ack -e tcp.flags.fin -e tcp.window_size_value -e tcp.checksum -e tcp.urgent_pointer -e tcp.option_kind -e tcp.options.timestamp.tsval -e tcp.options.timestamp.tsecr -e udp.srcport -e udp.dstport -e udp.length -e udp.checksum -e gquic.puflags.rsv -e gquic.packet_number  -E header=y -E separator=, -E quote=d -E occurrence=f > newsgoogle.csv"
   ]
  },
  {
   "cell_type": "code",
   "execution_count": 332,
   "metadata": {
    "colab": {
     "base_uri": "https://localhost:8080/"
    },
    "id": "MkRHTNLODyw0",
    "outputId": "88722e7b-fe7a-44fa-cc83-d2b68bd8754c"
   },
   "outputs": [
    {
     "name": "stdout",
     "output_type": "stream",
     "text": [
      "Running as user \"root\" and group \"root\". This could be dangerous.\n"
     ]
    }
   ],
   "source": [
    "!tshark -r \"news_yahoo.pcapng\" -R \"tcp\" -2 -T fields -e frame.number -e frame.time -e frame.len -e frame.cap_len -e sll.pkttype -e sll.hatype -e sll.halen -e sll.src.eth -e sll.unused -e sll.etype -e ip.hdr_len -e ip.dsfield.ecn -e ip.len -e ip.id -e ip.frag_offset -e ip.ttl -e ip.proto -e ip.checksum -e ip.src -e ip.dst -e tcp.len -e tcp.srcport -e tcp.dstport -e tcp.seq -e tcp.ack -e tcp.flags.fin -e tcp.window_size_value -e tcp.checksum -e tcp.urgent_pointer -e tcp.option_kind -e tcp.options.timestamp.tsval -e tcp.options.timestamp.tsecr -e udp.srcport -e udp.dstport -e udp.length -e udp.checksum -e gquic.puflags.rsv -e gquic.packet_number  -E header=y -E separator=, -E quote=d -E occurrence=f > news_yahoo.csv"
   ]
  },
  {
   "cell_type": "code",
   "execution_count": 333,
   "metadata": {
    "colab": {
     "base_uri": "https://localhost:8080/"
    },
    "id": "jhMDCLYIDyov",
    "outputId": "873705d1-5e16-4c9c-9bad-185da9127164"
   },
   "outputs": [
    {
     "name": "stdout",
     "output_type": "stream",
     "text": [
      "Running as user \"root\" and group \"root\". This could be dangerous.\n"
     ]
    }
   ],
   "source": [
    "!tshark -r \"news_yahoo.pcapng\" -R \"tcp\" -2 -T fields -e frame.number -e frame.time -e frame.len -e frame.cap_len -e sll.pkttype -e sll.hatype -e sll.halen -e sll.src.eth -e sll.unused -e sll.etype -e ip.hdr_len -e ip.dsfield.ecn -e ip.len -e ip.id -e ip.frag_offset -e ip.ttl -e ip.proto -e ip.checksum -e ip.src -e ip.dst -e tcp.len -e tcp.srcport -e tcp.dstport -e tcp.seq -e tcp.ack -e tcp.flags.fin -e tcp.window_size_value -e tcp.checksum -e tcp.urgent_pointer -e tcp.option_kind -e tcp.options.timestamp.tsval -e tcp.options.timestamp.tsecr -e udp.srcport -e udp.dstport -e udp.length -e udp.checksum -e gquic.puflags.rsv -e gquic.packet_number  -E header=y -E separator=, -E quote=d -E occurrence=f > news_yahoo.csv"
   ]
  },
  {
   "cell_type": "code",
   "execution_count": 334,
   "metadata": {
    "colab": {
     "base_uri": "https://localhost:8080/"
    },
    "id": "wdU_CoCYDydS",
    "outputId": "7d562e3d-5000-4b55-9ff6-a2082272402b"
   },
   "outputs": [
    {
     "name": "stdout",
     "output_type": "stream",
     "text": [
      "Running as user \"root\" and group \"root\". This could be dangerous.\n"
     ]
    }
   ],
   "source": [
    "!tshark -r \"timesofindia.pcapng\" -R \"tcp\" -2 -T fields -e frame.number -e frame.time -e frame.len -e frame.cap_len -e sll.pkttype -e sll.hatype -e sll.halen -e sll.src.eth -e sll.unused -e sll.etype -e ip.hdr_len -e ip.dsfield.ecn -e ip.len -e ip.id -e ip.frag_offset -e ip.ttl -e ip.proto -e ip.checksum -e ip.src -e ip.dst -e tcp.len -e tcp.srcport -e tcp.dstport -e tcp.seq -e tcp.ack -e tcp.flags.fin -e tcp.window_size_value -e tcp.checksum -e tcp.urgent_pointer -e tcp.option_kind -e tcp.options.timestamp.tsval -e tcp.options.timestamp.tsecr -e udp.srcport -e udp.dstport -e udp.length -e udp.checksum -e gquic.puflags.rsv -e gquic.packet_number  -E header=y -E separator=, -E quote=d -E occurrence=f > timesofindia.csv"
   ]
  },
  {
   "cell_type": "code",
   "execution_count": 335,
   "metadata": {
    "colab": {
     "base_uri": "https://localhost:8080/"
    },
    "id": "xRSWgy25DyWU",
    "outputId": "1dedb76c-b161-4c96-d344-e9effb0b9609"
   },
   "outputs": [
    {
     "name": "stdout",
     "output_type": "stream",
     "text": [
      "Running as user \"root\" and group \"root\". This could be dangerous.\n"
     ]
    }
   ],
   "source": [
    "!tshark -r \"ndtv_capture.pcapng\" -R \"tcp\" -2 -T fields -e frame.number -e frame.time -e frame.len -e frame.cap_len -e sll.pkttype -e sll.hatype -e sll.halen -e sll.src.eth -e sll.unused -e sll.etype -e ip.hdr_len -e ip.dsfield.ecn -e ip.len -e ip.id -e ip.frag_offset -e ip.ttl -e ip.proto -e ip.checksum -e ip.src -e ip.dst -e tcp.len -e tcp.srcport -e tcp.dstport -e tcp.seq -e tcp.ack -e tcp.flags.fin -e tcp.window_size_value -e tcp.checksum -e tcp.urgent_pointer -e tcp.option_kind -e tcp.options.timestamp.tsval -e tcp.options.timestamp.tsecr -e udp.srcport -e udp.dstport -e udp.length -e udp.checksum -e gquic.puflags.rsv -e gquic.packet_number  -E header=y -E separator=, -E quote=d -E occurrence=f > ndtv.csv"
   ]
  },
  {
   "cell_type": "code",
   "execution_count": 340,
   "metadata": {
    "colab": {
     "base_uri": "https://localhost:8080/"
    },
    "id": "IQyihz2IDyP3",
    "outputId": "f367be16-1c56-4c2b-8347-d2fe87ef3164"
   },
   "outputs": [
    {
     "name": "stdout",
     "output_type": "stream",
     "text": [
      "Running as user \"root\" and group \"root\". This could be dangerous.\n"
     ]
    }
   ],
   "source": [
    "!tshark -r 'nytimes.pcapng' -R \"tcp\" -2 -T fields -e frame.number -e frame.time -e frame.len -e frame.cap_len -e sll.pkttype -e sll.hatype -e sll.halen -e sll.src.eth -e sll.unused -e sll.etype -e ip.hdr_len -e ip.dsfield.ecn -e ip.len -e ip.id -e ip.frag_offset -e ip.ttl -e ip.proto -e ip.checksum -e ip.src -e ip.dst -e tcp.len -e tcp.srcport -e tcp.dstport -e tcp.seq -e tcp.ack -e tcp.flags.fin -e tcp.window_size_value -e tcp.checksum -e tcp.urgent_pointer -e tcp.option_kind -e tcp.options.timestamp.tsval -e tcp.options.timestamp.tsecr -e udp.srcport -e udp.dstport -e udp.length -e udp.checksum -e gquic.puflags.rsv -e gquic.packet_number  -E header=y -E separator=, -E quote=d -E occurrence=f > nytimes.csv"
   ]
  },
  {
   "cell_type": "code",
   "execution_count": 337,
   "metadata": {
    "colab": {
     "base_uri": "https://localhost:8080/"
    },
    "id": "NraQzf10DyKO",
    "outputId": "eb430927-7e54-488e-a35b-ede411e59680"
   },
   "outputs": [
    {
     "name": "stdout",
     "output_type": "stream",
     "text": [
      "Running as user \"root\" and group \"root\". This could be dangerous.\n"
     ]
    }
   ],
   "source": [
    "!tshark -r 'bbc.pcapng' -R \"tcp\" -2 -T fields -e frame.number -e frame.time -e frame.len -e frame.cap_len -e sll.pkttype -e sll.hatype -e sll.halen -e sll.src.eth -e sll.unused -e sll.etype -e ip.hdr_len -e ip.dsfield.ecn -e ip.len -e ip.id -e ip.frag_offset -e ip.ttl -e ip.proto -e ip.checksum -e ip.src -e ip.dst -e tcp.len -e tcp.srcport -e tcp.dstport -e tcp.seq -e tcp.ack -e tcp.flags.fin -e tcp.window_size_value -e tcp.checksum -e tcp.urgent_pointer -e tcp.option_kind -e tcp.options.timestamp.tsval -e tcp.options.timestamp.tsecr -e udp.srcport -e udp.dstport -e udp.length -e udp.checksum -e gquic.puflags.rsv -e gquic.packet_number  -E header=y -E separator=, -E quote=d -E occurrence=f > bbc.csv"
   ]
  },
  {
   "cell_type": "code",
   "execution_count": 342,
   "metadata": {
    "colab": {
     "base_uri": "https://localhost:8080/"
    },
    "id": "4Yh6xrjfDyEb",
    "outputId": "b1ee8f93-dfe3-438e-e5c1-81b9c7186248"
   },
   "outputs": [
    {
     "name": "stdout",
     "output_type": "stream",
     "text": [
      "Running as user \"root\" and group \"root\". This could be dangerous.\n"
     ]
    }
   ],
   "source": [
    "!tshark -r \"washingtonpost.pcapng\" -R \"tcp\" -2 -T fields -e frame.number -e frame.time -e frame.len -e frame.cap_len -e sll.pkttype -e sll.hatype -e sll.halen -e sll.src.eth -e sll.unused -e sll.etype -e ip.hdr_len -e ip.dsfield.ecn -e ip.len -e ip.id -e ip.frag_offset -e ip.ttl -e ip.proto -e ip.checksum -e ip.src -e ip.dst -e tcp.len -e tcp.srcport -e tcp.dstport -e tcp.seq -e tcp.ack -e tcp.flags.fin -e tcp.window_size_value -e tcp.checksum -e tcp.urgent_pointer -e tcp.option_kind -e tcp.options.timestamp.tsval -e tcp.options.timestamp.tsecr -e udp.srcport -e udp.dstport -e udp.length -e udp.checksum -e gquic.puflags.rsv -e gquic.packet_number  -E header=y -E separator=, -E quote=d -E occurrence=f > washingtonpost.csv"
   ]
  },
  {
   "cell_type": "code",
   "execution_count": 343,
   "metadata": {
    "colab": {
     "base_uri": "https://localhost:8080/"
    },
    "id": "4NuSKwM2Dx90",
    "outputId": "6313c485-3c48-42ac-c543-89aa3f649575"
   },
   "outputs": [
    {
     "name": "stdout",
     "output_type": "stream",
     "text": [
      "Running as user \"root\" and group \"root\". This could be dangerous.\n"
     ]
    }
   ],
   "source": [
    "!tshark -r \"msn.pcapng\" -R \"tcp\"  -2 -T fields -e frame.number -e frame.time -e frame.len -e frame.cap_len -e sll.pkttype -e sll.hatype -e sll.halen -e sll.src.eth -e sll.unused -e sll.etype -e ip.hdr_len -e ip.dsfield.ecn -e ip.len -e ip.id -e ip.frag_offset -e ip.ttl -e ip.proto -e ip.checksum -e ip.src -e ip.dst -e tcp.len -e tcp.srcport -e tcp.dstport -e tcp.seq -e tcp.ack -e tcp.flags.fin -e tcp.window_size_value -e tcp.checksum -e tcp.urgent_pointer -e tcp.option_kind -e tcp.options.timestamp.tsval -e tcp.options.timestamp.tsecr -e udp.srcport -e udp.dstport -e udp.length -e udp.checksum -e gquic.puflags.rsv -e gquic.packet_number  -E header=y -E separator=, -E quote=d -E occurrence=f > msn.csv"
   ]
  },
  {
   "cell_type": "code",
   "execution_count": 344,
   "metadata": {
    "colab": {
     "base_uri": "https://localhost:8080/"
    },
    "id": "nVl2F3AyDx3a",
    "outputId": "773c046a-8cd6-4811-c3f1-3a09ce8ce16d"
   },
   "outputs": [
    {
     "name": "stdout",
     "output_type": "stream",
     "text": [
      "Running as user \"root\" and group \"root\". This could be dangerous.\n"
     ]
    }
   ],
   "source": [
    "!tshark -r \"rt.pcapng\"  -2 -T fields -e frame.number -e frame.time -e frame.len -e frame.cap_len -e sll.pkttype -e sll.hatype -e sll.halen -e sll.src.eth -e sll.unused -e sll.etype -e ip.hdr_len -e ip.dsfield.ecn -e ip.len -e ip.id -e ip.frag_offset -e ip.ttl -e ip.proto -e ip.checksum -e ip.src -e ip.dst -e tcp.len -e tcp.srcport -e tcp.dstport -e tcp.seq -e tcp.ack -e tcp.flags.fin -e tcp.window_size_value -e tcp.checksum -e tcp.urgent_pointer -e tcp.option_kind -e tcp.options.timestamp.tsval -e tcp.options.timestamp.tsecr -e udp.srcport -e udp.dstport -e udp.length -e udp.checksum -e gquic.puflags.rsv -e gquic.packet_number  -E header=y -E separator=, -E quote=d -E occurrence=f > rt.csv"
   ]
  },
  {
   "cell_type": "code",
   "execution_count": 345,
   "metadata": {
    "colab": {
     "base_uri": "https://localhost:8080/"
    },
    "id": "8HVyLHcFDxwc",
    "outputId": "cbc6e771-c08c-4685-a441-3424d6dbb2a1"
   },
   "outputs": [
    {
     "name": "stdout",
     "output_type": "stream",
     "text": [
      "Running as user \"root\" and group \"root\". This could be dangerous.\n"
     ]
    }
   ],
   "source": [
    "!tshark -r 'foxnews.pcapng' -R \"tcp\" -2 -T fields -e frame.number -e frame.time -e frame.len -e frame.cap_len -e sll.pkttype -e sll.hatype -e sll.halen -e sll.src.eth -e sll.unused -e sll.etype -e ip.hdr_len -e ip.dsfield.ecn -e ip.len -e ip.id -e ip.frag_offset -e ip.ttl -e ip.proto -e ip.checksum -e ip.src -e ip.dst -e tcp.len -e tcp.srcport -e tcp.dstport -e tcp.seq -e tcp.ack -e tcp.flags.fin -e tcp.window_size_value -e tcp.checksum -e tcp.urgent_pointer -e tcp.option_kind -e tcp.options.timestamp.tsval -e tcp.options.timestamp.tsecr -e udp.srcport -e udp.dstport -e udp.length -e udp.checksum -e gquic.puflags.rsv -e gquic.packet_number  -E header=y -E separator=, -E quote=d -E occurrence=f > foxnews.csv"
   ]
  },
  {
   "cell_type": "code",
   "execution_count": 347,
   "metadata": {
    "colab": {
     "base_uri": "https://localhost:8080/"
    },
    "id": "6OlASqgWDxhM",
    "outputId": "da9e003f-ed9e-4f70-c322-9da68f8ef7bc"
   },
   "outputs": [
    {
     "name": "stdout",
     "output_type": "stream",
     "text": [
      "Running as user \"root\" and group \"root\". This could be dangerous.\n"
     ]
    }
   ],
   "source": [
    "!tshark -r 'nypost.pcapng' -R \"tcp\" -2 -T fields -e frame.number -e frame.time -e frame.len -e frame.cap_len -e sll.pkttype -e sll.hatype -e sll.halen -e sll.src.eth -e sll.unused -e sll.etype -e ip.hdr_len -e ip.dsfield.ecn -e ip.len -e ip.id -e ip.frag_offset -e ip.ttl -e ip.proto -e ip.checksum -e ip.src -e ip.dst -e tcp.len -e tcp.srcport -e tcp.dstport -e tcp.seq -e tcp.ack -e tcp.flags.fin -e tcp.window_size_value -e tcp.checksum -e tcp.urgent_pointer -e tcp.option_kind -e tcp.options.timestamp.tsval -e tcp.options.timestamp.tsecr -e udp.srcport -e udp.dstport -e udp.length -e udp.checksum -e gquic.puflags.rsv -e gquic.packet_number  -E header=y -E separator=, -E quote=d -E occurrence=f  > nypost.csv"
   ]
  },
  {
   "cell_type": "code",
   "execution_count": 348,
   "metadata": {
    "colab": {
     "base_uri": "https://localhost:8080/"
    },
    "id": "3RnuynCzIr5h",
    "outputId": "6f6b8492-94db-4c32-ce02-c6ae648e2bb0"
   },
   "outputs": [
    {
     "name": "stdout",
     "output_type": "stream",
     "text": [
      "Running as user \"root\" and group \"root\". This could be dangerous.\n"
     ]
    }
   ],
   "source": [
    "!tshark -r 'cnn.pcapng' -R \"tcp\" -2 -T fields -e frame.number -e frame.time -e frame.len -e frame.cap_len -e sll.pkttype -e sll.hatype -e sll.halen -e sll.src.eth -e sll.unused -e sll.etype -e ip.hdr_len -e ip.dsfield.ecn -e ip.len -e ip.id -e ip.frag_offset -e ip.ttl -e ip.proto -e ip.checksum -e ip.src -e ip.dst -e tcp.len -e tcp.srcport -e tcp.dstport -e tcp.seq -e tcp.ack -e tcp.flags.fin -e tcp.window_size_value -e tcp.checksum -e tcp.urgent_pointer -e tcp.option_kind -e tcp.options.timestamp.tsval -e tcp.options.timestamp.tsecr -e udp.srcport -e udp.dstport -e udp.length -e udp.checksum -e gquic.puflags.rsv -e gquic.packet_number  -E header=y -E separator=, -E quote=d -E occurrence=f  > cnn.csv"
   ]
  },
  {
   "cell_type": "code",
   "execution_count": 349,
   "metadata": {
    "colab": {
     "base_uri": "https://localhost:8080/"
    },
    "id": "NIrIw9BiI6Qi",
    "outputId": "9716eaaa-d85a-4129-e118-0ca4aa5734f8"
   },
   "outputs": [
    {
     "name": "stdout",
     "output_type": "stream",
     "text": [
      "Running as user \"root\" and group \"root\". This could be dangerous.\n"
     ]
    }
   ],
   "source": [
    "!tshark -r 'finance_yahoo.pcapng' -R \"tcp\" -2 -T fields -e frame.number -e frame.time -e frame.len -e frame.cap_len -e sll.pkttype -e sll.hatype -e sll.halen -e sll.src.eth -e sll.unused -e sll.etype -e ip.hdr_len -e ip.dsfield.ecn -e ip.len -e ip.id -e ip.frag_offset -e ip.ttl -e ip.proto -e ip.checksum -e ip.src -e ip.dst -e tcp.len -e tcp.srcport -e tcp.dstport -e tcp.seq -e tcp.ack -e tcp.flags.fin -e tcp.window_size_value -e tcp.checksum -e tcp.urgent_pointer -e tcp.option_kind -e tcp.options.timestamp.tsval -e tcp.options.timestamp.tsecr -e udp.srcport -e udp.dstport -e udp.length -e udp.checksum -e gquic.puflags.rsv -e gquic.packet_number  -E header=y -E separator=, -E quote=d -E occurrence=f  > finance_yahoo.csv"
   ]
  },
  {
   "cell_type": "markdown",
   "metadata": {
    "id": "GzdfvWwsJdNL"
   },
   "source": [
    "## evaluation of the perfomance of the new testset\n"
   ]
  },
  {
   "cell_type": "code",
   "execution_count": 356,
   "metadata": {
    "colab": {
     "base_uri": "https://localhost:8080/"
    },
    "id": "lOXMXju2Jo2Y",
    "outputId": "150e67ca-3dbb-477d-c35d-e2eb871f3e13"
   },
   "outputs": [
    {
     "name": "stdout",
     "output_type": "stream",
     "text": [
      "Processing file   abc.csv\n",
      "Processing file   news_yahoo.csv\n",
      "Processing file   foxnews.csv\n",
      "Processing file   rt.csv\n",
      "Processing file   nypost.csv\n",
      "Processing file   indiatimes.csv\n",
      "Processing file   news18.csv\n",
      "Processing file   bbc.csv\n",
      "Processing file   washingtonpost.csv\n",
      "Processing file   cnn.csv\n",
      "Processing file   newsgoogle.csv\n",
      "Processing file   nytimes.csv\n",
      "Processing file   ndtv.csv\n",
      "Processing file   timesofindia.csv\n",
      "Processing file   msn.csv\n",
      "Processing file   daily_mail.csv\n",
      "Processing file   express.csv\n",
      "Processing file   finance_yahoo.csv\n"
     ]
    }
   ],
   "source": [
    "\n",
    "from os import listdir\n",
    "from os.path import isfile, join\n",
    "import numpy as np\n",
    "import pandas as pd\n",
    "\n",
    "dataset_dw_new = pd.DataFrame()\n",
    "dataset_up_new = pd.DataFrame()\n",
    "\n",
    "path = '/content'\n",
    "tcpdumpfiles = [f for f in listdir(path) if isfile(join(path, f))]\n",
    "gt= np.unique([f.split('_')[0] for f in tcpdumpfiles])\n",
    "#print(gt, len(gt), len(tcpdumpfiles))\n",
    "\n",
    "#variables for up and dw in order to generate the biflow dataset\n",
    "counter_up=0\n",
    "counter_dw=0\n",
    "\n",
    "for f in tcpdumpfiles:\n",
    "  \n",
    "  print('Processing file  ', f)\n",
    "\n",
    "  df = pd.read_csv(join(path,f))\n",
    "  df_https = df[df[\"ip.proto\"]==6]\n",
    "  \n",
    "  df_https = df_https.groupby([\"ip.src\",\"ip.dst\",\"tcp.srcport\",\"tcp.dstport\"])\n",
    "  \n",
    "  for flow,df_flow in df_https: \n",
    "    \n",
    "    if(flow[0]=='172.28.0.2'):\n",
    "      \n",
    "      flow_features = extract_features(flow,df_flow,counter_up)\n",
    "      flow_features['gt'] = 'www.' + f.split('.')[0] + '.com';\n",
    "      counter_up =counter_up + 1;   \n",
    "    \n",
    "    else:\n",
    "      \n",
    "      flow_features = extract_features(flow,df_flow,counter)\n",
    "      flow_features['gt'] = 'www.' + f.split('.')[0] + '.com';\n",
    "      counter_dw =counter_dw + 1;   \n",
    "      \n",
    "    if((flow_features['direction'] =='uplink')):\n",
    "      \n",
    "        dataset_up_new = dataset_up_new.append(flow_features,ignore_index=True);  \n",
    "      \n",
    "    else:\n",
    "      \n",
    "        dataset_dw = dataset_dw_new.append(flow_features,ignore_index=True);  \n",
    "\n",
    "\n",
    "\n",
    "dataset_up_new.to_csv('datasetupnew.csv', index=False, line_terminator='\\n')\n",
    "\n",
    "dataset_dw_new.to_csv('datasetdwnew.csv', index=False, line_terminator='\\n')\n",
    "\n",
    "#the value couter helped me creating the biflow dataset.\n",
    "#thanks to it a merge has been possible between the two dataset,\n",
    "#one for up and the other for downlink, based on the ground truth information\n",
    "#and on counter variable\n",
    "\n",
    "datasetnew =pd.merge(dataset_up,dataset_dw,on=['gt','counter'],how='outer')\n",
    "\n",
    "dataset.drop(columns='counter')\n",
    "\n",
    "dataset.to_csv('traffic_classification_dataset_new.csv', index=False, line_terminator='\\n')\n"
   ]
  },
  {
   "cell_type": "code",
   "execution_count": null,
   "metadata": {
    "id": "Jvg7vSclKAiC"
   },
   "outputs": [],
   "source": [
    "from matplotlib.ticker import OldAutoLocator\n",
    "import pandas as pd\n",
    "import matplotlib.pyplot as plt\n",
    "from sklearn.utils import resample\n",
    "import warnings\n",
    "import statistics\n",
    "\n",
    "from sklearn.model_selection import KFold, train_test_split, StratifiedKFold\n",
    "from sklearn.preprocessing import LabelEncoder, StandardScaler\n",
    "from sklearn.metrics import  classification_report\n",
    "from sklearn.metrics import confusion_matrix, ConfusionMatrixDisplay\n",
    "from sklearn.neighbors import KNeighborsClassifier\n",
    "from sklearn.ensemble import RandomForestClassifier\n",
    "from sklearn.naive_bayes import GaussianNB\n",
    "from sklearn import metrics\n",
    "\n",
    "warnings.filterwarnings('ignore')\n",
    "\n",
    "#constructing features\n",
    "le = LabelEncoder();\n",
    "scaler = StandardScaler();\n",
    "\n",
    "\n",
    "#using only traffic features\n",
    "#here are dropped all the columns Nan and all the columns with values not related\n",
    "#to a traffic classification\n",
    "X = dataset.drop(['direction_x','direction_y','host.ip_x','host.ip_x','src.ip_x','src.ip_y','host.ip_y','counter'],axis=1).dropna();\n",
    "\n",
    "Y = le.fit_transform(X['gt']);\n",
    "X = X.drop('gt',axis=1);\n",
    "\n",
    "X_norm = scaler.fit_transform(X);\n",
    "\n",
    "#now let's use a stratified k-fold cross validation approach with 3 splits\n",
    "tot_cm = np.zeros([len(gt),len(gt)])\n",
    "accuracY_list= []\n",
    "skf = StratifiedKFold(n_splits=3,shuffle=True)\n",
    "\n",
    "\n",
    "for n_neighbors in range(1,11):\n",
    "  \n",
    "  #here it is used the old training set\n",
    "  for old_train_set, test in skf.split(X_norm, Y):\n",
    "\n",
    "      knn = KNeighborsClassifier(n_neighbors)\n",
    "     \n",
    "      knn.fit(X_norm[train], Y[train])\n",
    "     \n",
    "      knn_predict = knn.predict(X_norm[test])\n",
    "      \n",
    "      knn_report = classification_report(Y[test],knn_predict,target_names=le.inverse_transform(np.arange(len(gt))),digits=3,output_dict=True,zero_division='warn')\n",
    "      fold_accuracy = knn_report['accuracy']\n",
    "      #print(fold_accuracy)\n",
    "      cm = confusion_matrix(Y[test],knn.predict(X_norm[test]))\n",
    "      tot_cm = tot_cm + cm;\n",
    "      \n",
    "      accuracy=metrics.accuracy_score(Y[test],knn_predict)     \n",
    "      accuracy = accuracy.mean()\n",
    "      accuracY_list.append(accuracy)\n",
    "      "
   ]
  },
  {
   "cell_type": "code",
   "execution_count": 362,
   "metadata": {
    "id": "QbOoIvGFKAYR"
   },
   "outputs": [],
   "source": [
    "import matplotlib.pyplot as plt\n",
    "from itertools import zip_longest\n",
    "test_list = accuracY_list\n",
    "\n",
    "def group_elements(n, iterable, padvalue='x'):\n",
    "    return zip_longest(*[iter(iterable)]*n, fillvalue=padvalue)\n",
    "accuracy_mean_new = []\n",
    "\n",
    "for output in group_elements(3,test_list):\n",
    "    accuracy_mean_new.append(statistics.mean( list(output) ))"
   ]
  },
  {
   "cell_type": "code",
   "execution_count": 410,
   "metadata": {
    "colab": {
     "base_uri": "https://localhost:8080/",
     "height": 449
    },
    "id": "0kSJ78rVKAEh",
    "outputId": "949a63d3-c521-4693-f1f2-8b8736a9632a"
   },
   "outputs": [
    {
     "data": {
      "image/png": "[encoded data removed]",
      "text/plain": [
       "<Figure size 720x432 with 1 Axes>"
      ]
     },
     "metadata": {},
     "output_type": "display_data"
    }
   ],
   "source": [
    "#after the creation of the new test set and the evaluation \n",
    "#of the accuracy of the classifier for each K\n",
    "#it is plotted a figure that will confrontate the two testsets\n",
    "fig, ax1 = plt.subplots()\n",
    "ax1.plot(x1, accuracy_mean,linestyle='dashed',marker='o', markerfacecolor='m',markersize=8)\n",
    "ax1.set_xticks(x1);\n",
    "ax1.set_ylim(0,1);\n",
    "ax1.set_yticks(ticks=np.arange(0,1,0.05));\n",
    "ax1.set_title('Accuracy vs K value: old vs new test set ',fontsize = 30,color = 'r');\n",
    "ax1.set_xlabel('K values');\n",
    "ax1.set_ylabel('accuracy');\n",
    "ax1.plot(x1,accuracy_mean_new,linestyle=':',marker='o',markerfacecolor='green',markersize=8)\n",
    "ax1.legend(['Old test set accuracy', 'New Test set accuracy']);"
   ]
  }
 ],
 "metadata": {
  "colab": {
   "collapsed_sections": [
    "xBNcWCiMKN8l",
    "Nt_LToV_Awqd"
   ],
   "name": "Homework_2_final.ipynb",
   "provenance": []
  },
  "kernelspec": {
   "display_name": "Python 3 (ipykernel)",
   "language": "python",
   "name": "python3"
  },
  "language_info": {
   "codemirror_mode": {
    "name": "ipython",
    "version": 3
   },
   "file_extension": ".py",
   "mimetype": "text/x-python",
   "name": "python",
   "nbconvert_exporter": "python",
   "pygments_lexer": "ipython3",
   "version": "3.9.7"
  }
 },
 "nbformat": 4,
 "nbformat_minor": 1
}
